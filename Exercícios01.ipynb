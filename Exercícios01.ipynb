{
 "cells": [
  {
   "cell_type": "markdown",
   "metadata": {},
   "source": [
    "Desafios Python\n",
    "00 - Faça um programa que leia algo pelo teclado e mostre na tela o seu tipo primitivo."
   ]
  },
  {
   "cell_type": "code",
   "execution_count": 1,
   "metadata": {},
   "outputs": [
    {
     "name": "stdout",
     "output_type": "stream",
     "text": [
      "<class 'str'>\n"
     ]
    }
   ],
   "source": [
    "tecla = input('Escolha a tecla:')\n",
    "print(type(tecla))"
   ]
  },
  {
   "cell_type": "markdown",
   "metadata": {},
   "source": [
    "01 - Crie um programa que leia dois números e mostre a soma entre eles."
   ]
  },
  {
   "cell_type": "code",
   "execution_count": 34,
   "metadata": {},
   "outputs": [
    {
     "data": {
      "text/plain": [
       "'13.0'"
      ]
     },
     "execution_count": 34,
     "metadata": {},
     "output_type": "execute_result"
    }
   ],
   "source": [
    "numero1 = float(input('Digite o primeiro número: '))\n",
    "numero2 = float(input('Digite o segundo número: '))\n",
    "soma = numero1 + numero2 \n",
    "print(soma)"
   ]
  },
  {
   "cell_type": "markdown",
   "metadata": {},
   "source": [
    "02 - Crie um programa que leia um número inteiro e mostre na tela o seu sucessor e antecessor."
   ]
  },
  {
   "cell_type": "code",
   "execution_count": 5,
   "metadata": {},
   "outputs": [
    {
     "name": "stdout",
     "output_type": "stream",
     "text": [
      "9.0\n",
      "11.0\n"
     ]
    }
   ],
   "source": [
    "numero1 = float(input('Digite um número:'))\n",
    "antecessor = numero1 - 1\n",
    "sucessor = numero1 + 1\n",
    "print(f'{antecessor}')\n",
    "print(f'{sucessor}')"
   ]
  },
  {
   "cell_type": "markdown",
   "metadata": {},
   "source": [
    "03 - Crie um programa que leia um número e mostre o seu dobro, triplo e raiz quadrada."
   ]
  },
  {
   "cell_type": "code",
   "execution_count": 19,
   "metadata": {},
   "outputs": [
    {
     "name": "stdout",
     "output_type": "stream",
     "text": [
      "5.0\n",
      "10.0\n",
      "15.0\n",
      "2.24\n"
     ]
    }
   ],
   "source": [
    "numero = float(input('Digite um número:'))\n",
    "dobro = numero * 2\n",
    "triplo = numero * 3\n",
    "raiz = numero ** 0.5\n",
    "print(f'{numero}')\n",
    "print(f'{dobro}')\n",
    "print(f'{triplo}')\n",
    "print(f'{raiz:.2f}')"
   ]
  },
  {
   "cell_type": "markdown",
   "metadata": {},
   "source": [
    "04 - Crie um programa que leia duas notas de um aluno, calcule e mostre sua média."
   ]
  },
  {
   "cell_type": "code",
   "execution_count": 10,
   "metadata": {},
   "outputs": [
    {
     "name": "stdout",
     "output_type": "stream",
     "text": [
      "9.5\n"
     ]
    }
   ],
   "source": [
    "nota1 = float(input('Digite a primeira nota:'))\n",
    "nota2 = float(input('Digite a segunda nota:'))\n",
    "soma  = nota1 + nota2 \n",
    "media = soma / 2\n",
    "print(media)"
   ]
  },
  {
   "cell_type": "markdown",
   "metadata": {},
   "source": [
    "05 - Crie um programa que leia o valor em metros e o exiba convertido em centímetros e milímetros."
   ]
  },
  {
   "cell_type": "code",
   "execution_count": 41,
   "metadata": {},
   "outputs": [
    {
     "data": {
      "text/plain": [
       "'convertido em centímetros 1000.0, e em milímetros 10000.0'"
      ]
     },
     "execution_count": 41,
     "metadata": {},
     "output_type": "execute_result"
    }
   ],
   "source": [
    "metro = float(input('Digite valor em metros:'))\n",
    "centimetros = metro * 100\n",
    "milimetros = metro * 1000\n",
    "print(f'convertido em centímetros {centimetros}, e em milímetros {milimetros}')"
   ]
  },
  {
   "cell_type": "markdown",
   "metadata": {},
   "source": [
    "06 - Crie um programa que leia um numero qualquer e mostre na tela a sua tabuada."
   ]
  },
  {
   "cell_type": "code",
   "execution_count": 4,
   "metadata": {},
   "outputs": [
    {
     "name": "stdout",
     "output_type": "stream",
     "text": [
      "86.0 x 1 = 86.0\n",
      "86.0 x 2 = 172.0\n",
      "86.0 x 3 = 258.0\n",
      "86.0 x 4 = 344.0\n",
      "86.0 x 5 = 430.0\n",
      "86.0 x 6 = 516.0\n",
      "86.0 x 7 = 602.0\n",
      "86.0 x 8 = 688.0\n",
      "86.0 x 9 = 774.0\n",
      "86.0 x 10 = 860.0\n"
     ]
    }
   ],
   "source": [
    "numero = float(input(\"digite o número aqui:\"))\n",
    "um = numero * 1\n",
    "dois = numero * 2\n",
    "tres = numero * 3\n",
    "quatro = numero * 4\n",
    "cinco = numero * 5\n",
    "seis = numero * 6\n",
    "sete = numero * 7\n",
    "oito = numero * 8\n",
    "nove = numero * 9\n",
    "dez = numero * 10\n",
    "print(f'{numero} x 1 = {um}')   \n",
    "print(f'{numero} x 2 = {dois}')   \n",
    "print(f'{numero} x 3 = {tres}')   \n",
    "print(f'{numero} x 4 = {quatro}')   \n",
    "print(f'{numero} x 5 = {cinco}')   \n",
    "print(f'{numero} x 6 = {seis}')   \n",
    "print(f'{numero} x 7 = {sete}')   \n",
    "print(f'{numero} x 8 = {oito}')   \n",
    "print(f'{numero} x 9 = {nove}')   \n",
    "print(f'{numero} x 10 = {dez}')  "
   ]
  },
  {
   "cell_type": "markdown",
   "metadata": {},
   "source": [
    "07 - Crie um programa que leia quanto dinheiro a pessoa tem na carteira e mostre quantos dólares ela pode contar."
   ]
  },
  {
   "cell_type": "code",
   "execution_count": null,
   "metadata": {},
   "outputs": [],
   "source": [
    "valor = float(input('Digite o valor:'))\n",
    "dolar = valor / 4.98\n",
    "print(f'{dolar}')"
   ]
  },
  {
   "cell_type": "markdown",
   "metadata": {},
   "source": [
    "08 - Crie um programa que leia a largura e a altura de uma parede em metros, calcule a sua área e a quantidade de tinta necessária para pintá-lo, sabendo que cada litro de tinta pinta uma área de 2m2."
   ]
  },
  {
   "cell_type": "code",
   "execution_count": null,
   "metadata": {},
   "outputs": [],
   "source": [
    "largura = float(input('Digite a largura da parede'))\n",
    "altura = float(input('Digite a altura da parede'))\n",
    "area = (altura * largura)\n",
    "print(f'{area}m2 da parede')\n",
    "tinta = (area / 2)\n",
    "print(f'{tinta} litros de tinta ')"
   ]
  },
  {
   "cell_type": "markdown",
   "metadata": {},
   "source": [
    "09 - Faça um algoritmo que leia o preço do produto e mostre seu novo preço com 5% de desconto."
   ]
  },
  {
   "cell_type": "code",
   "execution_count": null,
   "metadata": {},
   "outputs": [],
   "source": [
    "valor = float(input('Digite o preço do produto'))\n",
    "valorDesconto = ((valor / 100) * 5 )\n",
    "total = (valor - valorDesconto)\n",
    "print(f'{total}')"
   ]
  },
  {
   "cell_type": "markdown",
   "metadata": {},
   "source": [
    "10 - Faça um algoritmo que leia o salário do funcionário e mostre seu novo salário com 15% de aumento."
   ]
  },
  {
   "cell_type": "code",
   "execution_count": null,
   "metadata": {},
   "outputs": [],
   "source": [
    "salario = float(input('Digite o valor do salário'))\n",
    "aumento = ((salario / 100) * 15)\n",
    "salario = (salario + aumento )\n",
    "print(f'{salario}')"
   ]
  },
  {
   "cell_type": "markdown",
   "metadata": {},
   "source": [
    "11 - Faça um algoritmo que receba um valor em graus Celsius e converta para farenheit."
   ]
  },
  {
   "cell_type": "code",
   "execution_count": 16,
   "metadata": {},
   "outputs": [
    {
     "name": "stdout",
     "output_type": "stream",
     "text": [
      "95.0°F\n"
     ]
    }
   ],
   "source": [
    "grau = float(input('Digite o  valor em graus °C'))\n",
    "converter = (grau * 1.8 + 32)\n",
    "print(f'{converter}°F')"
   ]
  },
  {
   "cell_type": "markdown",
   "metadata": {},
   "source": [
    "12 - Faça um algoritmo que pergunte a quantidade de km percorridos por um carro alugado e a quantidade de dias pelos quais ele foi alugado. Calcule o preço a pagar, sabendo que o carro custa R$60 por dia e R$0.15 por km rodado."
   ]
  },
  {
   "cell_type": "code",
   "execution_count": null,
   "metadata": {},
   "outputs": [],
   "source": [
    "km = float(input('Digite o Km percorridos'))\n",
    "dias = float(input('Digite o quantidade de dias do aluguel'))\n",
    "custosDias = dias * 60 \n",
    "custoKm = km * 0.15\n",
    "total = custoKm + custosDias\n",
    "print(f'valor do aluguel R${total}')"
   ]
  }
 ],
 "metadata": {
  "kernelspec": {
   "display_name": "Python 3",
   "language": "python",
   "name": "python3"
  },
  "language_info": {
   "codemirror_mode": {
    "name": "ipython",
    "version": 3
   },
   "file_extension": ".py",
   "mimetype": "text/x-python",
   "name": "python",
   "nbconvert_exporter": "python",
   "pygments_lexer": "ipython3",
   "version": "3.12.2"
  }
 },
 "nbformat": 4,
 "nbformat_minor": 2
}

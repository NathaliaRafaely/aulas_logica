{
 "cells": [
  {
   "cell_type": "markdown",
   "metadata": {},
   "source": [
    "✨💖1 - Crie uma lista com os números de 1 a 10 e imprima cada número.\n",
    "\n",
    "\n"
   ]
  },
  {
   "cell_type": "code",
   "execution_count": 3,
   "metadata": {},
   "outputs": [
    {
     "name": "stdout",
     "output_type": "stream",
     "text": [
      "1\n",
      "2\n",
      "3\n",
      "4\n",
      "5\n",
      "6\n",
      "7\n",
      "8\n",
      "9\n",
      "10\n"
     ]
    }
   ],
   "source": [
    "listaNumero = [1,2,3,4,5,6,7,8,9,10]\n",
    "for numero in listaNumero :\n",
    "    print (numero)"
   ]
  },
  {
   "cell_type": "markdown",
   "metadata": {},
   "source": [
    "✨💖2 - Crie uma lista com os nomes de três amigos e imprima cada nome.\n"
   ]
  },
  {
   "cell_type": "code",
   "execution_count": 4,
   "metadata": {},
   "outputs": [
    {
     "name": "stdout",
     "output_type": "stream",
     "text": [
      "Duda\n",
      "Mariana Borba\n",
      "Juliana\n"
     ]
    }
   ],
   "source": [
    "listaNome = ['Duda', 'Mariana Borba', 'Juliana']\n",
    "for nome in listaNome :\n",
    "    print (nome)"
   ]
  },
  {
   "cell_type": "markdown",
   "metadata": {},
   "source": [
    "✨💖3 - Crie uma lista com os meses do ano e imprima apenas os meses que começam com \"J\"."
   ]
  },
  {
   "cell_type": "code",
   "execution_count": 10,
   "metadata": {},
   "outputs": [
    {
     "name": "stdout",
     "output_type": "stream",
     "text": [
      "Janeiro\n",
      "Junho\n",
      "Julho\n"
     ]
    }
   ],
   "source": [
    "listaMes = ['Janeiro', 'Fevereiro', 'Março', 'Abril', 'Maio', 'Junho', 'Julho', 'Agosto', 'Setenbro', 'Outubro', 'Novembro', 'Dezembro']\n",
    "for mes in listaMes :\n",
    "    if mes[0] == 'J' :\n",
    "        print(mes)"
   ]
  },
  {
   "cell_type": "markdown",
   "metadata": {},
   "source": [
    "✨💖4 - Crie uma lista com as palavras \"gato\", \"cachorro\", \"pássaro\" e \"peixe\", e imprima cada palavra em maiúsculas."
   ]
  },
  {
   "cell_type": "code",
   "execution_count": 14,
   "metadata": {},
   "outputs": [
    {
     "name": "stdout",
     "output_type": "stream",
     "text": [
      "GATO\n",
      "CACHORRO\n",
      "PÁSSARO\n",
      "PEIXE\n"
     ]
    }
   ],
   "source": [
    "listaAnimal =[\"gato\", \"cachorro\", \"pássaro\", \"peixe\"]\n",
    "for animal in listaAnimal:\n",
    "    print(animal.upper())"
   ]
  },
  {
   "cell_type": "markdown",
   "metadata": {},
   "source": [
    "✨💖5 - Crie uma lista com 5 números aleatórios e exiba o nr e seu dobro."
   ]
  },
  {
   "cell_type": "code",
   "execution_count": 15,
   "metadata": {},
   "outputs": [
    {
     "name": "stdout",
     "output_type": "stream",
     "text": [
      "4\n",
      "10\n",
      "18\n",
      "6\n",
      "8\n"
     ]
    }
   ],
   "source": [
    "lista = [2,5,9,3,4]\n",
    "for nr in lista :\n",
    "    print(nr * 2)"
   ]
  },
  {
   "cell_type": "markdown",
   "metadata": {},
   "source": [
    "✨💖6 - Crie uma lista com valores numéricos e encontre o maior e o menor elemento dessa lista."
   ]
  },
  {
   "cell_type": "code",
   "execution_count": 23,
   "metadata": {},
   "outputs": [
    {
     "name": "stdout",
     "output_type": "stream",
     "text": [
      "None\n",
      "None\n",
      "None\n",
      "None\n",
      "None\n",
      "None\n",
      "None\n",
      "None\n"
     ]
    }
   ],
   "source": [
    "valores =[20,93,2,78,5,47,85,8]\n",
    "for val in valores :"
   ]
  },
  {
   "cell_type": "markdown",
   "metadata": {},
   "source": [
    "✨💖7 - Receba uma palavra do usuário e calcule quantas vogais há nesta palavra."
   ]
  },
  {
   "cell_type": "code",
   "execution_count": 31,
   "metadata": {},
   "outputs": [
    {
     "name": "stdout",
     "output_type": "stream",
     "text": [
      "a palavra nathalia tem 4 vogais\n"
     ]
    }
   ],
   "source": [
    "vogais = ['a', 'e', 'i', 'o', 'u']\n",
    "quant = 0\n",
    "\n",
    "Palavra = input('Digite uma palavra:')\n",
    "for letra in Palavra :\n",
    "    if letra in  vogais :\n",
    "        quant = quant + 1\n",
    "print(f'a palavra {Palavra} tem {quant} vogais')"
   ]
  },
  {
   "cell_type": "markdown",
   "metadata": {},
   "source": [
    "✨💖8 - Nessa string ‘Gol;Corsa;Palio;Monza;Fusca;’, faça a separação desses itens para uma lista e exiba o item e a posição que ele está"
   ]
  },
  {
   "cell_type": "code",
   "execution_count": 21,
   "metadata": {},
   "outputs": [
    {
     "name": "stdout",
     "output_type": "stream",
     "text": [
      "O carro Gol está na pos 0 \n",
      "O carro Corsa está na pos 1 \n",
      "O carro Palio está na pos 2 \n",
      "O carro Monza está na pos 3 \n",
      "O carro Fusca está na pos 4 \n"
     ]
    }
   ],
   "source": [
    "carro = ['Gol','Corsa','Palio','Monza','Fusca']\n",
    "for pos, car in enumerate(carro) :\n",
    "    print(f'O carro {car} está na pos {pos} ')"
   ]
  },
  {
   "cell_type": "markdown",
   "metadata": {},
   "source": [
    "✨💖9 - Faça um programa que vai ler valores numéricos e guardá-los em uma lista, caso ousuário digite 0, o programa mostre:\n",
    "A – Quantos números foram digitados.\n",
    "B – Mostre a lista em ordem crescente.\n",
    "C – Mostre a lista em ordem decrescente.\n",
    "D – O maior valor\n",
    "E – O menor valor\n",
    "D – Se o valor 5 foi digitado na lista ou não."
   ]
  },
  {
   "cell_type": "code",
   "execution_count": null,
   "metadata": {},
   "outputs": [],
   "source": [
    "quant = 0\n",
    "lista = []\n",
    "while True :\n",
    "    numero = input('Digite um número: ')\n",
    "    lista.append(numero)\n",
    "    quant = quant + 1\n",
    "    if numero in '0':\n",
    "        print (f'A = {quant} B = {lista.sort()} C = {lista.reverse()} D = ')\n",
    "        \n",
    "\n",
    "\n"
   ]
  }
 ],
 "metadata": {
  "kernelspec": {
   "display_name": "Python 3",
   "language": "python",
   "name": "python3"
  },
  "language_info": {
   "codemirror_mode": {
    "name": "ipython",
    "version": 3
   },
   "file_extension": ".py",
   "mimetype": "text/x-python",
   "name": "python",
   "nbconvert_exporter": "python",
   "pygments_lexer": "ipython3",
   "version": "3.12.2"
  }
 },
 "nbformat": 4,
 "nbformat_minor": 2
}

{
 "cells": [
  {
   "cell_type": "markdown",
   "metadata": {},
   "source": [
    "✨💞 1. Crie uma função sem parâmetros que exiba uma linha com 50 * , e uma mensagem de boas\n",
    "vindas, chame essa função por 4 vezes"
   ]
  },
  {
   "cell_type": "code",
   "execution_count": 5,
   "metadata": {},
   "outputs": [
    {
     "name": "stdout",
     "output_type": "stream",
     "text": [
      "**************************************************\n",
      "Bem Vindas\n",
      "**************************************************\n",
      "Bem Vindas\n",
      "**************************************************\n",
      "Bem Vindas\n",
      "**************************************************\n",
      "Bem Vindas\n"
     ]
    }
   ],
   "source": [
    "def Linha():\n",
    "    print('*' * 50)\n",
    "\n",
    "for n in range(4):\n",
    "    Linha()\n",
    "    print ('Bem Vindas')"
   ]
  },
  {
   "cell_type": "markdown",
   "metadata": {},
   "source": [
    "✨💞2. Crie uma função que contenha uma lista com as cores primárias e exiba cada cor em uma\n",
    "linha"
   ]
  },
  {
   "cell_type": "code",
   "execution_count": 8,
   "metadata": {},
   "outputs": [
    {
     "name": "stdout",
     "output_type": "stream",
     "text": [
      "Vermelho\n",
      "Azul\n",
      "Amarelo\n"
     ]
    }
   ],
   "source": [
    "def coresPrimarias():\n",
    "    cores = ['Vermelho', 'Azul', 'Amarelo']\n",
    "    for cor in cores:\n",
    "        print(cor)\n",
    "\n",
    "coresPrimarias()"
   ]
  },
  {
   "cell_type": "markdown",
   "metadata": {},
   "source": [
    "✨💞3. Crie uma função que recebe um número como parâmetro e exiba a tabuada até o 10, chame\n",
    "essa função por 3 vezes enviando parâmetros diferentes"
   ]
  },
  {
   "cell_type": "code",
   "execution_count": 4,
   "metadata": {},
   "outputs": [
    {
     "name": "stdout",
     "output_type": "stream",
     "text": [
      "9 x 0 = 0\n",
      "9 x 1 = 9\n",
      "9 x 2 = 18\n",
      "9 x 3 = 27\n",
      "9 x 4 = 36\n",
      "9 x 5 = 45\n",
      "9 x 6 = 54\n",
      "9 x 7 = 63\n",
      "9 x 8 = 72\n",
      "9 x 9 = 81\n",
      "9 x 10 = 90\n"
     ]
    }
   ],
   "source": [
    "def tabuada(numero):\n",
    "    for x in range(11):\n",
    "        print(f'{numero} x {x} = {numero * x}')\n",
    "tabuada(9)"
   ]
  },
  {
   "cell_type": "markdown",
   "metadata": {},
   "source": [
    "✨💞4. Crie uma função que receba 2 números e o operador matemático para realizar a operação\n",
    "(Ex. envio os parâmetros 2 e 5 e *, fazer a multiplicação), tratar as operações + - * / **"
   ]
  },
  {
   "cell_type": "code",
   "execution_count": 16,
   "metadata": {},
   "outputs": [
    {
     "data": {
      "text/plain": [
       "1.0"
      ]
     },
     "execution_count": 16,
     "metadata": {},
     "output_type": "execute_result"
    }
   ],
   "source": [
    "def operacao(Numero1, Numero2, oper):\n",
    "    if oper == '*':\n",
    "        resp = Numero1 * Numero2\n",
    "    elif oper == '+':\n",
    "        resp = Numero1 + Numero2\n",
    "    elif oper == '-':\n",
    "        resp = Numero1 - Numero2\n",
    "    elif oper == '/':\n",
    "        resp = Numero1 / Numero2\n",
    "    elif oper == '**':\n",
    "        resp = Numero1 ** Numero2\n",
    "    else:\n",
    "       print('Digite um operador válido') \n",
    "    return(resp)\n",
    "        \n",
    "operacao(2, 2, '/')"
   ]
  },
  {
   "cell_type": "markdown",
   "metadata": {},
   "source": [
    "✨💞5. Crie uma função que gere uma senha aleatória, deve receber como parâmetro a quantidade\n",
    "de caracteres que terá a senha, crie uma lista com todos os caracteres disponíveis para a\n",
    "senha e com o random sorteie a qual de dígitos terá a senha"
   ]
  },
  {
   "cell_type": "code",
   "execution_count": 21,
   "metadata": {},
   "outputs": [
    {
     "name": "stdout",
     "output_type": "stream",
     "text": [
      "S804W&L8\n"
     ]
    }
   ],
   "source": [
    "import random\n",
    "def QualquerSenha(tama):\n",
    "    caracteres = 'abcdefghijklmnopqrstuvwxzABCDEFGHIJKLMNOPQRSTUVWXZ0123456789!@#$%¨&*()\"/-+,.:;|?°'\n",
    "    senha = ''\n",
    "    for i in range(tama):\n",
    "        senha = senha + random.choice(caracteres)\n",
    "    return(senha)\n",
    "senhaTemp = QualquerSenha(8)\n",
    "print(senhaTemp)"
   ]
  }
 ],
 "metadata": {
  "kernelspec": {
   "display_name": "Python 3",
   "language": "python",
   "name": "python3"
  },
  "language_info": {
   "codemirror_mode": {
    "name": "ipython",
    "version": 3
   },
   "file_extension": ".py",
   "mimetype": "text/x-python",
   "name": "python",
   "nbconvert_exporter": "python",
   "pygments_lexer": "ipython3",
   "version": "3.12.3"
  }
 },
 "nbformat": 4,
 "nbformat_minor": 2
}

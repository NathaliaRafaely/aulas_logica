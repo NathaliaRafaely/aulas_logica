{
 "cells": [
  {
   "cell_type": "markdown",
   "metadata": {},
   "source": [
    "💸🧾1. Peça o salário do funcionário e calcule o valor do IRPF e INSS do funcionário e quanto ele irá receber no final do mês."
   ]
  },
  {
   "cell_type": "code",
   "execution_count": 3,
   "metadata": {},
   "outputs": [
    {
     "name": "stdout",
     "output_type": "stream",
     "text": [
      "IPRF 15% -2550.0\n"
     ]
    }
   ],
   "source": [
    "Salario = int(input('Digite o seu salario:'))\n",
    "iprf7 = ((Salario / 100) * 7.5 ) - Salario\n",
    "iprf15 = ((Salario / 100) * 15 ) - Salario\n",
    "iprf22 = ((Salario / 100) * 22.5 ) - Salario\n",
    "iprf27 = ((Salario / 100) * 27.5 ) - Salario\n",
    "\n",
    "if Salario <= 2259.20 :\n",
    "    print(f'IPRF {Salario}')\n",
    "elif Salario > 2259.20 and Salario <= 2826.65:\n",
    "     print(f'IPRF 7,5% {iprf7}')\n",
    "elif Salario > 2826.65 and Salario <= 3751.05:\n",
    "    print(f'IPRF 15% {iprf15}')\n",
    "elif Salario > 3751.05 and Salario <= 4664.68:\n",
    "      print(f'IPRF 22,5% {iprf22}')\n",
    "else :\n",
    "     print (f'IPRF 27,5% {iprf27}' )"
   ]
  },
  {
   "cell_type": "code",
   "execution_count": 5,
   "metadata": {},
   "outputs": [
    {
     "name": "stdout",
     "output_type": "stream",
     "text": [
      "IPRF 27,5% 7091.15\n"
     ]
    }
   ],
   "source": [
    "Salario = int(input('Digite o seu salario:'))\n",
    "inss1 = ((Salario / 100) * 7.5 ) - Salario\n",
    "inss2 = ((Salario / 100) * 9 ) - Salario\n",
    "inss3 = ((Salario / 100) * 12 ) - Salario\n",
    "inss4 = ((Salario / 100) * 14 ) - Salario\n",
    "inss5 =  Salario - 908.85\n",
    "\n",
    "if Salario <= 1412.00 :\n",
    "    print(f'INSS {inss1}')\n",
    "elif Salario > 1412.00 and Salario <= 2666.68:\n",
    "     print(f'INSS 7,5% {inss2}')\n",
    "elif Salario > 2666.68 and Salario <= 4000.03:\n",
    "    print(f'INSS 15% {inss3}')\n",
    "elif Salario > 4000.03 and Salario <= 7786.02:\n",
    "      print(f'INSS 22,5% {inss4}')\n",
    "else :\n",
    "     print (f'INSS 27,5% {inss5}' )"
   ]
  },
  {
   "cell_type": "markdown",
   "metadata": {},
   "source": [
    "💵🧾2. Para melhorar nosso desafio 01, vamos criar um novo calculando de forma real. Peça o salário do funcionário e calcule o valor do IRPF e INSS do funcionário e quanto ele irá receber no final do mês, considerando as seguintes tabelas e fórmulas:\n",
    "- Para calcular o INSS é calculado sobre o valor bruto do salário\n",
    "- Para calcular o IRPF é aplicado a tabela abaixo sobre o valor bruto menos o valor do INSS"
   ]
  },
  {
   "cell_type": "code",
   "execution_count": 2,
   "metadata": {},
   "outputs": [
    {
     "name": "stdout",
     "output_type": "stream",
     "text": [
      "INSS 12% -2640.0 e IPRF 15% 2244.0\n"
     ]
    }
   ],
   "source": [
    "Salario = int(input('Digite o seu salario:'))\n",
    "inss1 = ((Salario / 100) * 7.5 ) - Salario\n",
    "inss2 = ((Salario / 100) * 9 ) - Salario\n",
    "inss3 = ((Salario / 100) * 12 ) - Salario\n",
    "inss4 = ((Salario / 100) * 14 ) - Salario\n",
    "inss5 =  Salario - 908.85\n",
    "\n",
    "iprf2 = ((inss2 / 100) * 7.5 ) - inss2\n",
    "iprf2_1 = ((inss3 / 100) * 7.5 ) - inss3\n",
    "iprf3 = ((inss3 / 100) * 15 ) - inss3\n",
    "iprf3_1 = ((inss4/ 100) * 15 ) - inss4\n",
    "iprf4 = ((inss4/ 100) * 22.5 ) - inss4\n",
    "iprf4_1 = ((inss4/ 100) * 27.5 ) - inss4\n",
    "iprf5 = ((inss5/ 100) * 27.5 ) - inss5\n",
    "\n",
    "if Salario <= 1412.00 :\n",
    "    print(f'INSS 7.5% {inss1}')\n",
    "elif Salario > 1412.00 and Salario <= 2259.20 :\n",
    "     print(f'INSS 9% {inss2} e IPRF 0%')\n",
    "elif Salario > 2259.20 and Salario <= 2666.68:\n",
    "    print(f'INSS 9% {inss2} e IPRF 7.5% {iprf2}')\n",
    "elif Salario > 2666.68 and Salario <= 2826.65:\n",
    "     print(f'INSS 12% {inss3} e IPRF 7.5% {iprf2_1}')\n",
    "elif Salario > 2826.65 and Salario <= 4000.03:\n",
    "      print(f'INSS 12% {inss3} e IPRF 15% {iprf3}')\n",
    "elif Salario > 4000.03 and Salario <= 4664.68:\n",
    "     print(f'INSS 14% {inss4} e IPRF 15% {iprf3_1}')\n",
    "elif Salario > 4000.03 and Salario <= 4664.68:\n",
    "     print(f'INSS 14% {inss4} e IPRF 22.5% {iprf4}')\n",
    "elif Salario > 4664.68 and Salario <= 7786.02:\n",
    "     print(f'INSS 14% {inss4} e IPRF 22.5% {iprf4_1}')\n",
    "else :\n",
    "     print (f'INSS R$908.85 {inss5} e IPRF 22.5% {iprf5}' )"
   ]
  }
 ],
 "metadata": {
  "kernelspec": {
   "display_name": "Python 3",
   "language": "python",
   "name": "python3"
  },
  "language_info": {
   "codemirror_mode": {
    "name": "ipython",
    "version": 3
   },
   "file_extension": ".py",
   "mimetype": "text/x-python",
   "name": "python",
   "nbconvert_exporter": "python",
   "pygments_lexer": "ipython3",
   "version": "3.12.2"
  }
 },
 "nbformat": 4,
 "nbformat_minor": 2
}

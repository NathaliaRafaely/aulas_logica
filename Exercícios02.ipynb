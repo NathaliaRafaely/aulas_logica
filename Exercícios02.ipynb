{
 "cells": [
  {
   "cell_type": "markdown",
   "metadata": {},
   "source": [
    "1. Leia 2 notas de um aluno, calcule a média e imprima aprovado ou reprovado (para ser aprovado a média deve ser no mínimo 7)"
   ]
  },
  {
   "cell_type": "code",
   "execution_count": 3,
   "metadata": {},
   "outputs": [
    {
     "name": "stdout",
     "output_type": "stream",
     "text": [
      "Reprovado\n",
      "FIM\n"
     ]
    }
   ],
   "source": [
    "nota1 = float(input('Digite a primeira nota: '))\n",
    "nota2 = float(input('Digite a segunda nota:'))\n",
    "media = (nota1 + nota2) / 2\n",
    "if media >= 7 :\n",
    "  print(\"Aprovado\")\n",
    "else :\n",
    "  print('Reprovado')\n",
    "\n",
    "print('FIM')"
   ]
  },
  {
   "cell_type": "markdown",
   "metadata": {},
   "source": [
    "2. Peça dois números ao usuário e mostre qual o maior e qual o menor"
   ]
  },
  {
   "cell_type": "code",
   "execution_count": 4,
   "metadata": {},
   "outputs": [
    {
     "name": "stdout",
     "output_type": "stream",
     "text": [
      "7.0 é maior que 5.0\n",
      "FIM\n"
     ]
    }
   ],
   "source": [
    "numero1 = float(input('Digite o primeiro número: '))\n",
    "numero2 = float(input('Digite o segundo número:'))\n",
    "if numero1 > numero2 :\n",
    "  print(f'{numero1} é maior que {numero2}')\n",
    "else :\n",
    "  print(f'{numero2} é maior que {numero1}')\n",
    "\n",
    "print('FIM')\n"
   ]
  },
  {
   "cell_type": "markdown",
   "metadata": {},
   "source": [
    "3. Receba um inteiro e diga se é par ou ímpar."
   ]
  },
  {
   "cell_type": "code",
   "execution_count": 5,
   "metadata": {},
   "outputs": [
    {
     "name": "stdout",
     "output_type": "stream",
     "text": [
      "5 é ínpar\n",
      "FIM\n"
     ]
    }
   ],
   "source": [
    "numero = int(input('Digite o  número:'))\n",
    "imparPar = numero % 2\n",
    "if imparPar == 0 :\n",
    "    print(f'{numero} é par')\n",
    "else :\n",
    "    print(f'{numero} é ínpar')\n",
    "\n",
    "print('FIM')"
   ]
  },
  {
   "cell_type": "markdown",
   "metadata": {},
   "source": [
    "4. Receba um número inteiro e diga se é positivo ou negativo"
   ]
  },
  {
   "cell_type": "code",
   "execution_count": 6,
   "metadata": {},
   "outputs": [
    {
     "name": "stdout",
     "output_type": "stream",
     "text": [
      "-5 é Negativo\n",
      "FIM\n"
     ]
    }
   ],
   "source": [
    "numero = int(input('Digite o  número:'))\n",
    "if numero < 0 :\n",
    "    print(f'{numero} é Negativo')\n",
    "else :\n",
    "    print(f'{numero} é Positivo')\n",
    "\n",
    "print('FIM')"
   ]
  },
  {
   "cell_type": "markdown",
   "metadata": {},
   "source": [
    "5. Pergunte o ano de nascimento de uma pessoa e diga se ele é maior de idade"
   ]
  },
  {
   "cell_type": "code",
   "execution_count": 8,
   "metadata": {},
   "outputs": [
    {
     "name": "stdout",
     "output_type": "stream",
     "text": [
      "Menor de idade\n",
      "FIM\n"
     ]
    }
   ],
   "source": [
    "ano = int(input('Digite o ano de nascimento: '))\n",
    "idade = 2024 - ano\n",
    "if idade >= 18 :\n",
    "  print(\"Maior de idade\")\n",
    "else:\n",
    "  print(\"Menor de idade\")\n",
    "\n",
    "print('FIM')"
   ]
  },
  {
   "cell_type": "markdown",
   "metadata": {},
   "source": [
    "6. Ler dois números inteiros e informar se estes são iguais ou diferentes."
   ]
  },
  {
   "cell_type": "code",
   "execution_count": 2,
   "metadata": {},
   "outputs": [
    {
     "name": "stdout",
     "output_type": "stream",
     "text": [
      "7.0 é diferente ao 5.0\n",
      "FIM\n"
     ]
    }
   ],
   "source": [
    "numero1 = float(input('Digite o primeiro número: '))\n",
    "numero2 = float(input('Digite o segundo número:'))\n",
    "if numero1 != numero2 :\n",
    "  print(f'{numero1} é diferente ao {numero2}')\n",
    "else :\n",
    "  print(f'{numero2} é igual ao {numero1}')\n",
    "\n",
    "print('FIM')\n"
   ]
  },
  {
   "cell_type": "markdown",
   "metadata": {},
   "source": [
    "7. Receba a velocidade do carro e exiba que foi multado se for maior que 80km/h, o valor da multa será R$ 7,00 por cada km excedido, exibir o valor da multa"
   ]
  },
  {
   "cell_type": "code",
   "execution_count": 5,
   "metadata": {},
   "outputs": [],
   "source": [
    "velocidade = float(input('Digite a velocidade do carro (Km): '))\n",
    "multa = (velocidade - 80) * 7\n",
    "if velocidade > 80 :\n",
    "    print(f'{velocidade} esta maior de 80Km/h, valor a pagar {multa}')\n"
   ]
  },
  {
   "cell_type": "markdown",
   "metadata": {},
   "source": [
    "EXTRA- Escreva um programa que calcule o preço a ser pago por um produto considerando um desconto de 10% se o valor da compra for maior que R$ 100,00"
   ]
  },
  {
   "cell_type": "code",
   "execution_count": 2,
   "metadata": {},
   "outputs": [
    {
     "name": "stdout",
     "output_type": "stream",
     "text": [
      "valor do produto com 10% de desconto, R$135.0\n",
      "FIM\n"
     ]
    }
   ],
   "source": [
    "valor = float(input('Digite o valor: '))\n",
    "desconto = (valor / 100) * 10\n",
    "total = valor - desconto\n",
    "if valor > 100:\n",
    "    print(f'valor do produto com 10% de desconto, R${total}')\n",
    "else :\n",
    "    print(f'Valor R${valor} ')\n",
    "\n",
    "print(f'FIM')\n"
   ]
  },
  {
   "cell_type": "markdown",
   "metadata": {},
   "source": [
    "EXTRA - Desenvolva um programa que receba o valor de 3 lados de um triângulo e verifique se pode formar um triângulo."
   ]
  },
  {
   "cell_type": "code",
   "execution_count": null,
   "metadata": {},
   "outputs": [],
   "source": [
    "lado1 = float(input('Digite o primeiro valor: '))\n",
    "lado2 = float(input('Digite o segundo valor: '))\n",
    "lado3 = float(input('Digite o terceiro valor: '))\n",
    "if (lado1 == lado2) and (lado2 == lado3):\n",
    "    print('Triângulo Escalâtero')\n",
    "elif(lado1 != lado2) and (lado2 != lado3) and (lado1 != lado3):\n",
    "    print('Triângulo Escaleno')\n",
    "else:\n",
    "    print('Triângulo Isósceles')"
   ]
  },
  {
   "cell_type": "markdown",
   "metadata": {},
   "source": [
    "EXTRA - Crie um programa que receba 2 valores e troque os valores das variáveis entre si, ex.: var a=1 e b=2 , exibir \"O valor da variável a=2 e b=1\""
   ]
  },
  {
   "cell_type": "code",
   "execution_count": 3,
   "metadata": {},
   "outputs": [
    {
     "name": "stdout",
     "output_type": "stream",
     "text": [
      "a variavel a = 1.0 e a variavel b =2.0\n"
     ]
    }
   ],
   "source": [
    "numero1 = float(input('Digite o primeiro valor: '))\n",
    "numero2 = float(input('Digite o segundo valor: '))\n",
    "if numero1 != numero2 :\n",
    "    print(f'a variavel a = {numero1} e a variavel b ={numero2}')\n",
    "else :\n",
    "    print(f'a variavel a = {numero2} e a variavel b = {numero1}')"
   ]
  },
  {
   "cell_type": "markdown",
   "metadata": {},
   "source": [
    "EXTRA - Refaça o exercício anterior, sem utilizar variáveis adicionais"
   ]
  },
  {
   "cell_type": "code",
   "execution_count": null,
   "metadata": {},
   "outputs": [],
   "source": [
    "numero1 = float(input('Digite o primeiro valor: '))\n",
    "numero2 = float(input('Digite o segundo valor: '))\n",
    "if numero1 != numero2 :\n",
    "    print(f'a')\n",
    "else :\n",
    "    print(f'a')"
   ]
  }
 ],
 "metadata": {
  "kernelspec": {
   "display_name": "Python 3",
   "language": "python",
   "name": "python3"
  },
  "language_info": {
   "codemirror_mode": {
    "name": "ipython",
    "version": 3
   },
   "file_extension": ".py",
   "mimetype": "text/x-python",
   "name": "python",
   "nbconvert_exporter": "python",
   "pygments_lexer": "ipython3",
   "version": "3.12.2"
  }
 },
 "nbformat": 4,
 "nbformat_minor": 2
}

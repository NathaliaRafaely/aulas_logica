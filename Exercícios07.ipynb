{
 "cells": [
  {
   "cell_type": "markdown",
   "metadata": {},
   "source": [
    "✨❤1. Crie uma lista de filmes com 7 filmes a sua escolha, e faça as seguintes operações com ela:"
   ]
  },
  {
   "cell_type": "code",
   "execution_count": 9,
   "metadata": {},
   "outputs": [
    {
     "name": "stdout",
     "output_type": "stream",
     "text": [
      "Avatar 2\n",
      "O Rei Leão \n",
      "['Avatar 2', 'Vingadores: Guerra Infinita', 'WALL·E', 'O Rei Leão ', 'Viva - A Vida é uma Festa', 'Homem-Aranha: Através do Aranhaverso', 'Rango']\n",
      "['Avatar 2', 'Vingadores: Guerra Infinita', 'WALL·E', 'O Rei Leão ', 'Viva - A Vida é uma Festa', 'Homem-Aranha: Através do Aranhaverso', 'Rango', 'Fragmentado']\n",
      "['Avatar 2', 'Vingadores: Guerra Infinita', 'WALL·E', 'O Rei Leão ', 'Vidro', 'Viva - A Vida é uma Festa', 'Homem-Aranha: Através do Aranhaverso', 'Rango', 'Fragmentado']\n",
      "['Vingadores: Guerra Infinita', 'WALL·E', 'O Rei Leão ', 'Vidro', 'Viva - A Vida é uma Festa', 'Homem-Aranha: Através do Aranhaverso', 'Rango', 'Fragmentado']\n",
      "['Vingadores: Guerra Infinita', 'WALL·E', 'O Rei Leão ', 'Vidro', 'Viva - A Vida é uma Festa', 'Homem-Aranha: Através do Aranhaverso', 'Rango']\n",
      "['Vingadores: Guerra Infinita', 'WALL·E', 'O Rei Leão ']\n",
      "['Vingadores: Guerra Infinita', 'WALL·E', 'O Rei Leão ', 'Vidro']\n",
      "7\n",
      "['Rango', 'Homem-Aranha: Através do Aranhaverso', 'Viva - A Vida é uma Festa', 'Vidro', 'O Rei Leão ', 'WALL·E', 'Vingadores: Guerra Infinita']\n"
     ]
    }
   ],
   "source": [
    "filmes = ['Avatar 2', 'Vingadores: Guerra Infinita', 'WALL·E', 'O Rei Leão ', 'Viva - A Vida é uma Festa', 'Homem-Aranha: Através do Aranhaverso', 'O Mundo Depois de Nós']\n",
    "# Exiba apenas o primeiro o filme da lista\n",
    "print(filmes [0])\n",
    "# Exiba o filme da posição 4\n",
    "print(filmes [3])\n",
    "# Substitua o filme da última posição e exiba a lista\n",
    "filmes[6] = 'Rango'\n",
    "print(filmes)\n",
    "# Insira um novo filme no final da lista e exiba a lista\n",
    "filmes.append ('Fragmentado')\n",
    "print(filmes)\n",
    "# Insira um novo filme na posição 5 e exiba a lista\n",
    "filmes.insert(4, 'Vidro')\n",
    "print(filmes)\n",
    "# Exclua o primeiro filme e exiba a lista\n",
    "filmes.pop(0)\n",
    "print(filmes)\n",
    "# Exclua o último filme e exiba a lista\n",
    "del filmes[7]\n",
    "print(filmes)\n",
    "# Exiba os 3 primeiros filmes da lista\n",
    "print(filmes[0:3])\n",
    "# Exiba os 4 últimos filmes da lista\n",
    "print(filmes[0:4])\n",
    "# Exiba a quantidade de filmes atualmente na lista\n",
    "print(len(filmes))\n",
    "# Ordene os filmes em ordem decrescente e exiba-os\n",
    "filmes.reverse()\n",
    "print(filmes)"
   ]
  },
  {
   "cell_type": "markdown",
   "metadata": {},
   "source": [
    "✨❤2. Crie uma lista com os 20 times do campeonato brasileiro de futebol"
   ]
  },
  {
   "cell_type": "code",
   "execution_count": 18,
   "metadata": {},
   "outputs": [
    {
     "name": "stdout",
     "output_type": "stream",
     "text": [
      "Corinthians\n",
      "['Corinthians', 'Bahia', 'Flamengo', 'Palmeiras']\n",
      "['Cuiabá', 'coritiba', 'Santos', 'vasco']\n"
     ]
    }
   ],
   "source": [
    "times = ['Corinthians', 'Bahia', 'Flamengo', 'Palmeiras', 'Flumenese', 'São Paulo', 'Grêmio', 'Atlético', 'Fortaleza', 'América', 'Internacional', 'Botafogo', 'Cruzeiro', 'Bragantino',\n",
    "         'Ceará', 'Goiás', 'Cuiabá', 'coritiba','Santos', 'vasco']\n",
    "# Exiba o primeiro time da lista como campeão\n",
    "print(times [0])\n",
    "# Exiba os 4 primeiros times como que irão jogar a libertadores\n",
    "print(times[0:4])\n",
    "# Exiba os 4 últimos times como os que estão rebaixados para a série B\n",
    "print(times[16:20])"
   ]
  },
  {
   "cell_type": "markdown",
   "metadata": {},
   "source": [
    "✨❤3. Crie um programa que receba do usuário através do input 6 comidas e refaça todos\n",
    "os itens do exercício 1"
   ]
  },
  {
   "cell_type": "code",
   "execution_count": 19,
   "metadata": {},
   "outputs": [
    {
     "name": "stdout",
     "output_type": "stream",
     "text": [
      "Hot dog\n",
      "Pão de Alho\n",
      "['Hot dog', 'Bife a Parmegiana', 'Frango', 'Pão de Alho', 'Coxinha', 'Brigadeiro']\n",
      "['Hot dog', 'Bife a Parmegiana', 'Frango', 'Pão de Alho', 'Coxinha', 'Brigadeiro', 'Beijinho']\n",
      "['Hot dog', 'Bife a Parmegiana', 'Frango', 'Pão de Alho', 'Bolo', 'Coxinha', 'Brigadeiro', 'Beijinho']\n",
      "['Bife a Parmegiana', 'Frango', 'Pão de Alho', 'Bolo', 'Coxinha', 'Brigadeiro', 'Beijinho']\n",
      "['Bife a Parmegiana', 'Frango', 'Pão de Alho', 'Bolo', 'Coxinha', 'Beijinho']\n",
      "['Bife a Parmegiana', 'Frango', 'Pão de Alho']\n",
      "['Bife a Parmegiana', 'Frango', 'Pão de Alho', 'Bolo']\n",
      "6\n",
      "['Beijinho', 'Coxinha', 'Bolo', 'Pão de Alho', 'Frango', 'Bife a Parmegiana']\n"
     ]
    }
   ],
   "source": [
    "comidas = ['Hot dog', 'Bife a Parmegiana', 'Frango', 'Pão de Alho', 'Coxinha', 'Feijoada']\n",
    "# Exiba apenas o primeira comida da lista\n",
    "print(comidas [0])\n",
    "# Exiba a comida da posição 4\n",
    "print(comidas [3])\n",
    "# Substitua a comida da última posição e exiba a lista\n",
    "comidas[5] = 'Brigadeiro'\n",
    "print(comidas)\n",
    "# Insira uma nova comida no final da lista e exiba a lista\n",
    "comidas.append ('Beijinho')\n",
    "print(comidas)\n",
    "# Insira uma nova comida na posição 5 e exiba a lista\n",
    "comidas.insert(4, 'Bolo')\n",
    "print(comidas)\n",
    "# Exclua a primeira comida e exiba a lista\n",
    "comidas.pop(0)\n",
    "print(comidas)\n",
    "# Exclua a última comida e exiba a lista\n",
    "del comidas[5]\n",
    "print(comidas)\n",
    "# Exiba as 3 primeiras comidas da lista\n",
    "print(comidas[0:3])\n",
    "# Exiba as 4 últimas comidas da lista\n",
    "print(comidas[0:4])\n",
    "# Exiba a quantidade de comidas atualmente na lista\n",
    "print(len(comidas))\n",
    "# Ordene as comidas em ordem decrescente e exiba-os\n",
    "comidas.reverse()\n",
    "print(comidas)\n"
   ]
  }
 ],
 "metadata": {
  "kernelspec": {
   "display_name": "Python 3",
   "language": "python",
   "name": "python3"
  },
  "language_info": {
   "codemirror_mode": {
    "name": "ipython",
    "version": 3
   },
   "file_extension": ".py",
   "mimetype": "text/x-python",
   "name": "python",
   "nbconvert_exporter": "python",
   "pygments_lexer": "ipython3",
   "version": "3.12.2"
  }
 },
 "nbformat": 4,
 "nbformat_minor": 2
}

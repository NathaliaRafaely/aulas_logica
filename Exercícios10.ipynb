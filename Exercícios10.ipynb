{
 "cells": [
  {
   "cell_type": "markdown",
   "metadata": {},
   "source": [
    "✨💖1. Escreva uma função que utilize uma variável global para contar o número de vezes que foi\n",
    "chamada. A função deve retornar o número atual de chamadas."
   ]
  },
  {
   "cell_type": "code",
   "execution_count": 7,
   "metadata": {},
   "outputs": [
    {
     "data": {
      "text/plain": [
       "2"
      ]
     },
     "execution_count": 7,
     "metadata": {},
     "output_type": "execute_result"
    }
   ],
   "source": [
    "x = 0\n",
    "def funcao():\n",
    "    global x \n",
    "    x += 1 \n",
    "    return(x)\n",
    "funcao()\n",
    "funcao()"
   ]
  },
  {
   "cell_type": "markdown",
   "metadata": {},
   "source": [
    "✨💖2. Crie um algoritmo que receba em variável global o valor atual do dólar e do euro, crie uma\n",
    "função que receba o valor a ser convertido e imprima a conversão em dólar e em euro"
   ]
  },
  {
   "cell_type": "code",
   "execution_count": 19,
   "metadata": {},
   "outputs": [
    {
     "name": "stdout",
     "output_type": "stream",
     "text": [
      " Euro 9.17 / Dolar 9.75 \n"
     ]
    }
   ],
   "source": [
    "euro = 5.45\n",
    "dolar = 5.13\n",
    "def Real(dinheiro):\n",
    "    print(f' Euro {dinheiro / euro:.2f} / Dolar {dinheiro / dolar:.2f} ')\n",
    "Real(50.00)"
   ]
  },
  {
   "cell_type": "markdown",
   "metadata": {},
   "source": [
    "✨💖3. Escreva uma função que recebe um nome e o adicione a uma lista de nomes global. Em\n",
    "seguida, escreva outra função que remova um elemento dessa lista global recebendo o nome."
   ]
  },
  {
   "cell_type": "code",
   "execution_count": 21,
   "metadata": {},
   "outputs": [
    {
     "name": "stdout",
     "output_type": "stream",
     "text": [
      "['Marcos já que eu fiz']\n",
      "['Marcos já que eu fiz', 'Douglas']\n",
      "['Marcos já que eu fiz']\n"
     ]
    }
   ],
   "source": [
    "nomes = []\n",
    "def adicionar(nome) :\n",
    "    nomes.append(nome)\n",
    "    print(nomes)\n",
    "\n",
    "def remover (nome) :\n",
    "    nomes.remove(nome)\n",
    "    print(nomes)\n",
    "\n",
    "adicionar('Marcos já que eu fiz')\n",
    "adicionar('Douglas')\n",
    "remover('Douglas')"
   ]
  },
  {
   "cell_type": "markdown",
   "metadata": {},
   "source": [
    "✨💖4. Crie um caixa eletrônico: Crie uma variável global para armazenar o saldo, crie função para\n",
    "depositar e sacar, recebendo o valor como parâmetro, crie outra função para consultar o\n",
    "saldo. Crie um menu interativo com while para navegar entre as funções:\n",
    "[1] Depositar \n",
    "[2] Sacar\n",
    "[3] Consultar saldo\n",
    "[4] Parar programa"
   ]
  },
  {
   "cell_type": "code",
   "execution_count": null,
   "metadata": {},
   "outputs": [],
   "source": [
    "saldo = 0\n",
    "def depositar(n1):\n",
    "    global saldo\n",
    "    saldo = saldo + n1\n",
    "def sacar(n1):\n",
    "    global saldo\n",
    "    saldo = saldo - n1\n",
    "def consutar():     \n",
    "    print(f'Seu saldo R$ {saldo:.2f}')\n",
    "while True :\n",
    "    print('Menu')    \n",
    "    print('[1] Depositar')    \n",
    "    print('[2] Sacar')    \n",
    "    print('[3] Consultar conta')    \n",
    "    print('[4] Sair')\n",
    "    opcao = input('Digite um número do menu:')    \n",
    "    if opcao == '1':\n",
    "        n1 = float(input('Digite o valor a depositar:'))\n",
    "        depositar(n1)\n",
    "    elif opcao == '2':\n",
    "        n1 = float(input('Digite o valor a sacar:'))\n",
    "        sacar(n1)\n",
    "    elif opcao == '3':\n",
    "        consutar()\n",
    "    else :\n",
    "        break"
   ]
  },
  {
   "cell_type": "markdown",
   "metadata": {},
   "source": [
    "✨💖5. Desenhando um retângulo. Crie um algoritmo que receba em variável global um caractere\n",
    "especial. Em uma função receba 2 parâmetros altura e largura e desenhe de acordo com a\n",
    "largura, a quantidade de vezes que irá repetir o caractere, e de acordo com a altura, o número\n",
    "de linhas que será desenhado. Ex: Caractere +, largura 20 altura 5: ++++++++++++++++++++"
   ]
  },
  {
   "cell_type": "code",
   "execution_count": 1,
   "metadata": {},
   "outputs": [
    {
     "name": "stdout",
     "output_type": "stream",
     "text": [
      "++++++++++++++++++++\n",
      "++++++++++++++++++++\n",
      "++++++++++++++++++++\n",
      "++++++++++++++++++++\n",
      "++++++++++++++++++++\n"
     ]
    }
   ],
   "source": [
    "caractere = '+'\n",
    "def desenharForma(l, a) :\n",
    "    for i in range(a) :\n",
    "        print(caractere * l)\n",
    "desenharForma(20,5)"
   ]
  }
 ],
 "metadata": {
  "kernelspec": {
   "display_name": "Python 3",
   "language": "python",
   "name": "python3"
  },
  "language_info": {
   "codemirror_mode": {
    "name": "ipython",
    "version": 3
   },
   "file_extension": ".py",
   "mimetype": "text/x-python",
   "name": "python",
   "nbconvert_exporter": "python",
   "pygments_lexer": "ipython3",
   "version": "3.12.2"
  }
 },
 "nbformat": 4,
 "nbformat_minor": 2
}

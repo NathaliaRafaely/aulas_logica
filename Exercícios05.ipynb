{
 "cells": [
  {
   "cell_type": "markdown",
   "metadata": {},
   "source": [
    "💻🧮 1. Utilizando o comando while, exiba todos os números pares, de 1 a 20.\n"
   ]
  },
  {
   "cell_type": "code",
   "execution_count": 7,
   "metadata": {},
   "outputs": [
    {
     "name": "stdout",
     "output_type": "stream",
     "text": [
      "O número 2 é par\n",
      "O número 4 é par\n",
      "O número 6 é par\n",
      "O número 8 é par\n",
      "O número 10 é par\n",
      "O número 12 é par\n",
      "O número 14 é par\n",
      "O número 16 é par\n",
      "O número 18 é par\n",
      "O número 20 é par\n"
     ]
    }
   ],
   "source": [
    "x = 1\n",
    "while x <= 20 : \n",
    "     if x % 2 == 0:\n",
    "          print(f'O número {x} é par')\n",
    "     x = x + 1"
   ]
  },
  {
   "cell_type": "markdown",
   "metadata": {},
   "source": [
    "💋🎰2. Gere os 6 números do sorteio da mega-sena de forma aleatória."
   ]
  },
  {
   "cell_type": "code",
   "execution_count": 1,
   "metadata": {},
   "outputs": [
    {
     "name": "stdout",
     "output_type": "stream",
     "text": [
      "39,88,6,26,46,9\n"
     ]
    }
   ],
   "source": [
    "\n",
    "#Importando a biblioteca de números aleatorios\n",
    "import random\n",
    "nrSorteado1 = random.randint(1, 60)\n",
    "nrSorteado2 = random.randint(1, 60)\n",
    "nrSorteado3 = random.randint(1, 60)\n",
    "nrSorteado4 = random.randint(1, 60)\n",
    "nrSorteado5 = random.randint(1, 60)\n",
    "nrSorteado6 = random.randint(1, 60)\n",
    "\n",
    "print(f'{nrSorteado1},{nrSorteado2},{nrSorteado3},{nrSorteado4},{nrSorteado5},{nrSorteado6}')"
   ]
  },
  {
   "cell_type": "code",
   "execution_count": 10,
   "metadata": {},
   "outputs": [
    {
     "name": "stdout",
     "output_type": "stream",
     "text": [
      " Números: 57\n",
      " Números: 18\n",
      " Números: 58\n",
      " Números: 23\n",
      " Números: 58\n",
      " Números: 15\n"
     ]
    }
   ],
   "source": [
    "import random\n",
    "\n",
    "x = 1 \n",
    "while x <= 6 :\n",
    "    nrSorteado = random.randint(1, 60)\n",
    "    print(f' Números: {nrSorteado}')\n",
    "    x = x + 1\n"
   ]
  },
  {
   "cell_type": "markdown",
   "metadata": {},
   "source": [
    "➕✔ 3. Receba alguns número e verifique a soma e a quantidade de todos os pares e ímpares\n",
    "digitados, digite 0 para não receber mais"
   ]
  },
  {
   "cell_type": "code",
   "execution_count": 12,
   "metadata": {},
   "outputs": [
    {
     "name": "stdout",
     "output_type": "stream",
     "text": [
      "O total da soma 104.0 com 3 números pares e 2 números ímpar\n",
      " \n"
     ]
    }
   ],
   "source": [
    "soma = 0\n",
    "par = 0\n",
    "impar = 0\n",
    "while True :\n",
    "    numero = float(input('Digite o valor [0 para encerrar]'))\n",
    "    soma = numero + soma\n",
    "    if numero == 0 :\n",
    "        break\n",
    "    elif numero % 2 == 0 :\n",
    "        par = par + 1\n",
    "    else :\n",
    "        impar = impar + 1\n",
    "\n",
    "print(f'O total da soma {soma} com {par} números pares e {impar} números ímpar')\n",
    "\n",
    "\n",
    "\n",
    "print (f' ')"
   ]
  },
  {
   "cell_type": "markdown",
   "metadata": {},
   "source": [
    "(❁´◡`❁)\n",
    "4. Faça um programa em Python que leia 5 valores inteiros e:                                                                               \n",
    "Encontre e mostre o maior valor\n",
    "/ Encontre e mostre o menor valor\n",
    "/ Calcule e mostre a média dos números lidos"
   ]
  },
  {
   "cell_type": "code",
   "execution_count": null,
   "metadata": {},
   "outputs": [],
   "source": []
  }
 ],
 "metadata": {
  "kernelspec": {
   "display_name": "Python 3",
   "language": "python",
   "name": "python3"
  },
  "language_info": {
   "codemirror_mode": {
    "name": "ipython",
    "version": 3
   },
   "file_extension": ".py",
   "mimetype": "text/x-python",
   "name": "python",
   "nbconvert_exporter": "python",
   "pygments_lexer": "ipython3",
   "version": "3.12.2"
  }
 },
 "nbformat": 4,
 "nbformat_minor": 2
}

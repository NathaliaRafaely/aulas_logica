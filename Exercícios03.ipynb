{
 "cells": [
  {
   "cell_type": "markdown",
   "metadata": {},
   "source": [
    "📅 1. Pede ao usuário para digitar um número de 1 a 7 e imprime o dia da semana correspondente."
   ]
  },
  {
   "cell_type": "code",
   "execution_count": 6,
   "metadata": {},
   "outputs": [
    {
     "name": "stdout",
     "output_type": "stream",
     "text": [
      "2 é Segunda\n"
     ]
    }
   ],
   "source": [
    "dia = input('Digite um numero de 1 a 7:')\n",
    "\n",
    "match dia:\n",
    "    case '1' :\n",
    "        print (f'{dia} é Domingo')\n",
    "    case '2' :\n",
    "        print (f'{dia} é Segunda')\n",
    "    case '3' :\n",
    "        print (f'{dia} é Terça')\n",
    "    case '4' :\n",
    "        print (f'{dia} é Quarta')\n",
    "    case '5' :\n",
    "        print (f'{dia} é Quinta')\n",
    "    case '6' :\n",
    "        print (f'{dia} é Sexta')\n",
    "    case '7' :\n",
    "        print (f'{dia} é Sabádo ')"
   ]
  },
  {
   "cell_type": "markdown",
   "metadata": {},
   "source": [
    "👨‍👩‍👦‍👦2. Pede ao usuário o ano atual e o ano de nascimento e verifique em qual faixa etária ele pertence considerando (abaixo de 10 é criança, de 11 a 17 adolescente, de 18 a 59 adulto, acima de 60 idoso)"
   ]
  },
  {
   "cell_type": "code",
   "execution_count": 12,
   "metadata": {},
   "outputs": [
    {
     "name": "stdout",
     "output_type": "stream",
     "text": [
      "Adolecente\n"
     ]
    }
   ],
   "source": [
    "anoAtual = int(input('Digite o atual ano: '))\n",
    "anoNascimento = int(input('Digite o ano do seu nascimento'))\n",
    "idade = anoAtual - anoNascimento\n",
    "\n",
    "if idade <= 10 :\n",
    "    print('Criança' )\n",
    "elif idade >= 11 and idade <= 17 :\n",
    "    print('Adolescente')\n",
    "elif idade >= 18 and idade <= 59 :\n",
    "    print('Adulto')\n",
    "else :\n",
    "        print ('Idoso' )"
   ]
  },
  {
   "cell_type": "markdown",
   "metadata": {},
   "source": [
    "📆3. Pede ao usuário para digitar o nome de um mês e imprime o número de dias naquele mês."
   ]
  },
  {
   "cell_type": "code",
   "execution_count": 17,
   "metadata": {},
   "outputs": [],
   "source": [
    "mes = input('Digite o mês: ')\n",
    "\n",
    "match mes:\n",
    "    case 'Janeiro' :\n",
    "        print ('31')\n",
    "    case 'Fevereiro' :\n",
    "        print ('28 ou 29')\n",
    "    case 'Março' :\n",
    "        print ('31')\n",
    "    case 'Abril' :\n",
    "        print ('30')\n",
    "    case 'Maio' :\n",
    "        print ('31')\n",
    "    case 'Junho' :\n",
    "        print ('30')\n",
    "    case 'Julho' :\n",
    "        print ('31')\n",
    "    case 'Agosto' :\n",
    "        print('30')\n",
    "    case 'Setembro':\n",
    "        print('31')\n",
    "    case 'Novembro':\n",
    "        print('31')\n",
    "    case 'Dezembro':\n",
    "        print('30')\n"
   ]
  },
  {
   "cell_type": "markdown",
   "metadata": {},
   "source": [
    "✔❌4. Pede ao usuário para digitar 2 notas e calcule sua média, e considere a média acima de 7 aprovado, entre 5 e 7, em recuperação, abaixo de 5 reprovado."
   ]
  },
  {
   "cell_type": "code",
   "execution_count": 2,
   "metadata": {},
   "outputs": [
    {
     "name": "stdout",
     "output_type": "stream",
     "text": [
      "reprovado\n"
     ]
    }
   ],
   "source": [
    "nota1 = float(input('Digite primeira nota: '))\n",
    "nota2 = float(input('digite segunda nota: '))\n",
    "media = (nota1 + nota2) / 2\n",
    "\n",
    "if media < 5 :\n",
    "    print('reprovado' )\n",
    "elif media >= 5 and media <= 7 :\n",
    "    print('Recuperação')\n",
    "else :\n",
    "        print ('Aprovado' )"
   ]
  },
  {
   "cell_type": "markdown",
   "metadata": {},
   "source": [
    "💵📈5.Pede o salário do funcionário, e calcular o aumento que ele terá, considerando se ganhar até 2000, reajuste de 12%, até 4000, reajuste de 10%, acima de 4000 reajuste de 8%, exibir o novo salário"
   ]
  },
  {
   "cell_type": "code",
   "execution_count": 5,
   "metadata": {},
   "outputs": [
    {
     "name": "stdout",
     "output_type": "stream",
     "text": [
      "Você teve um aumento de 10% 3850.0\n"
     ]
    }
   ],
   "source": [
    "Salario = int(input('Digite o seu salario:'))\n",
    "aumento12 = (((Salario / 100) * 12)) + Salario\n",
    "aumento10 = ((Salario / 100) * 10) + Salario\n",
    "aumento8 = ((Salario / 100) * 8) + Salario\n",
    "\n",
    "if Salario < 2000 :\n",
    "    print(f'Você teve um aumento de 12% {aumento12}' )\n",
    "elif Salario >= 2000 and Salario <= 4000 :\n",
    "    print(f'Você teve um aumento de 10% {aumento10}')\n",
    "else :\n",
    "        print (f'Você teve um aumento de 8% {aumento8}' )"
   ]
  }
 ],
 "metadata": {
  "kernelspec": {
   "display_name": "Python 3",
   "language": "python",
   "name": "python3"
  },
  "language_info": {
   "codemirror_mode": {
    "name": "ipython",
    "version": 3
   },
   "file_extension": ".py",
   "mimetype": "text/x-python",
   "name": "python",
   "nbconvert_exporter": "python",
   "pygments_lexer": "ipython3",
   "version": "3.12.2"
  }
 },
 "nbformat": 4,
 "nbformat_minor": 2
}

{
 "cells": [
  {
   "cell_type": "markdown",
   "metadata": {},
   "source": [
    "⚜ Aula 16/02/2024 - Comandos de saída (print) / Tipos de dados (string,int,float,bool) / Operações Aritmétricas (+ - * / % **)"
   ]
  },
  {
   "cell_type": "code",
   "execution_count": 3,
   "metadata": {},
   "outputs": [
    {
     "name": "stdout",
     "output_type": "stream",
     "text": [
      "Olá Mundo!!!\n",
      "Meu primeiro código em Python. Usando aspas duplas\n",
      "Meu primeiro código em Python. Usando aspas duplas\n",
      "Para duplicar uma linha pressionei shift + alt + seta baixo\n",
      "123\n",
      "70.5\n",
      "True\n",
      "Sesi\n",
      "14\n",
      "8 + 6\n",
      "string 10 70.5 False\n",
      "60\n",
      "80\n",
      "102223904103945\n",
      "14088.0\n",
      "1\n",
      "27\n",
      "7.0\n"
     ]
    }
   ],
   "source": [
    "#Meu primeiro Código\n",
    "print('Olá Mundo!!!')\n",
    "\n",
    "print(\"Meu primeiro código em Python. Usando aspas duplas\")\n",
    "print(\"Meu primeiro código em Python. Usando aspas duplas\")\n",
    "print(\"Para duplicar uma linha pressionei shift + alt + seta baixo\")\n",
    "\n",
    "print(123)#Estou exibindo um número inteiro, por isso, não preciso da \"\" \n",
    "print(70.5)#Número Float\n",
    "print(True)#Campo lógico (Verdadeiro ou falso) (True ou False)\n",
    "print(\"Sesi\")#Tipo string\n",
    "\n",
    "# Somando 2 número inteiro (o sinal de + para 2 números realiza SOMA)\n",
    "print(8 + 6)\n",
    "# Pórem se forem 2 string (o sinal de + realiza a CONCATENAÇÃO)\n",
    "print(\"8 + 6\")\n",
    "\n",
    "# Posso imprimir várias informaçoes ao mesmo tempo separando-as por\n",
    "print('string', 10, 70.5, False)\n",
    "\n",
    "print( 10 + 50 ) # + é o operador de SOMA (número inteiro ou decimal)\n",
    "print( 67 + 13 ) # - é o operador de SUBTRAÇÃO (n° inteiro ou decimal)\n",
    "print( 4164781 * 24544845 ) # * é o operador de MULTIPLICAÇÃO\n",
    "print( 42264 / 3 ) # / é operador de DIVIÇÃO\n",
    "print( 31 % 3 ) # % é operador do resto da DIVIÇÃO (MÓDULO)\n",
    "print( 3 ** 3 ) # ** é operador de exponenciação 3³\n",
    "\n",
    "print( (8 + 6) / 2) # O Parênteses define a maior ordem de precendência"
   ]
  },
  {
   "cell_type": "markdown",
   "metadata": {},
   "source": [
    "💻📈Aula 22/02/2024 - Comandos de entrada (input) / Variáveis / Pseudocódogo"
   ]
  },
  {
   "cell_type": "code",
   "execution_count": 1,
   "metadata": {},
   "outputs": [
    {
     "name": "stdout",
     "output_type": "stream",
     "text": [
      "curso\n",
      "Desenvolvimento de Sistemas\n",
      "curso Desenvolvimento de Sistemas\n",
      "Olá Nathalia ,você tem 15 anos, hoje está fazendo 23.5 °C\n",
      "Nathalia 15\n",
      "Ricardo 34\n",
      "Nathalia 15 0.9\n",
      "Seu nome é Nathalia, sua idade é 15 anos e peso 0.9 kg\n",
      "l 15 95\n",
      "Seu nome é l, sua idade é 15 anos e peso 95 kg\n",
      "<class 'str'> <class 'str'> <class 'str'>\n"
     ]
    }
   ],
   "source": [
    "#Declarando minha primeira variável \n",
    "#lemos da seguinte forma:\n",
    "#Variavel curso recebe(=) a string \"Desenvolvimento de Sistemas\"\n",
    "#Receba/Armazene o texto \"Desenvolvimento de Sistemas\"\n",
    "curso = \"Desenvolvimento de Sistemas\"\n",
    "#Exiba o valor armazenado\n",
    "print(\"curso\")      # Para imprimir uma variável não se coloca entre \" \"\n",
    "print(curso)        # Jeito correto de utilizar uma variável\n",
    "print(\"curso\", curso)\n",
    " \n",
    "\n",
    "#Criando e atribuindo uma variavel\n",
    "idade = 15\n",
    "temperatura = 23.5\n",
    "nome = \"Nathalia\"\n",
    "\n",
    "# Exiba o valor das 3 variáveis\n",
    "# \"Olá Nathalia, você tem 15 anos, hoje está fazendo 23.5 °C \"\n",
    "print('Olá', nome,',você tem', idade, 'anos, hoje está fazendo', temperatura,'°C')\n",
    "\n",
    "#Declarando variáveis lógicas, recebe apenas True ou False\n",
    "Chovendo = False\n",
    "Dia = True\n",
    "\n",
    "# Nesta linha abaixo ocorrerá um erro pois não existe uma variavel com o \n",
    "# nome salario, então não consegue encontrar nada para exibir \n",
    "# NameError: 'salario' is not defined\n",
    "# print(\"Salario\", salario)\n",
    "\n",
    "#Declarando um constante, diferentemente da variável que posso alterar o valor \n",
    "# na constante não é permitido, declaramos com o nome todo e maiuscula \n",
    "PI = 3.1415\n",
    "\n",
    "print(nome, idade)\n",
    "idade = 34\n",
    "nome = \"Ricardo\"\n",
    "print(nome, idade)\n",
    "\n",
    "#Passo 1: Receber o nome da pessoa  \n",
    "nome = \"Nathalia\"\n",
    "#Passo 2: Receber a idade da pessoa  \n",
    "idade = 15\n",
    "#Passo 3: Receber o peso da pessoa  \n",
    "peso = 0.9\n",
    "#Passo 4: Exibir o nome, a idade e o peso\n",
    "print(nome, idade, peso)\n",
    "print(f'Seu nome é {nome}, sua idade é {idade} anos e peso {peso} kg')\n",
    "\n",
    "#Passo 1: Receber o nome da pessoa\n",
    "#No input sempre recebemos uma string\n",
    "nome = input('Qual é o seu nome?')\n",
    "#Passo 2: Receber a idade da pessoa \n",
    "#Posso  converter essa string recebida do tipo inteiro\n",
    "idade = input('Qual é a sua idade?')\n",
    "#Passo 3: Receber o peso da pessoa\n",
    "#Posso converter esse string recebido float\n",
    "peso = input('Qual é a seu peso?')\n",
    "#Passo 4: Exibir o nome, a idade e o peso\n",
    "print (nome, idade, peso)\n",
    "print (f'Seu nome é {nome}, sua idade é {idade} anos e peso {peso} kg')\n",
    "\n",
    "#Exibindo os tipos das variaveis\n",
    "#Tudo que recebemos do input é do tipo string\n",
    "print (type(nome), type(idade), type(peso))"
   ]
  },
  {
   "cell_type": "markdown",
   "metadata": {},
   "source": [
    "📝🌸23/02/2024 - Operações com variáveis "
   ]
  },
  {
   "cell_type": "code",
   "execution_count": 23,
   "metadata": {},
   "outputs": [
    {
     "name": "stdout",
     "output_type": "stream",
     "text": [
      "162.0\n",
      "<class 'float'>\n"
     ]
    }
   ],
   "source": [
    "#Sempre manter a ordem correta, para que não haja erro \n",
    "#Receber o primeiro número \n",
    "numero1 = float(input('Digite o primeiro número: '))\n",
    "#Receber o snumero1 egundo número\n",
    "numero2 = float(input('Digite o segundo número: '))\n",
    "#Receber o terceiro número\n",
    "numero3 = float(input('Digite o terceiro número: '))\n",
    "#Soma o primeiro + o segundo número + terceiro número\n",
    "soma = numero1 + numero2 + numero3\n",
    "#Exibir o resultado\n",
    "print(soma)\n",
    "print(type(soma))\n",
    "\n"
   ]
  },
  {
   "cell_type": "code",
   "execution_count": null,
   "metadata": {},
   "outputs": [],
   "source": [
    "#Receber o primeiro número \n",
    "numero1 = float(input('Digite o primeiro número: '))\n",
    "#Receber o segundo número\n",
    "numero2 = float(input('Digite o segundo número: '))\n",
    "#Receber o terceiro número\n",
    "numero3 = float(input('Digite o terceiro número: '))\n",
    "#Soma o primeiro * o segundo número * terceiro número\n",
    "multiplicaçao = numero1 * numero2 * numero3\n",
    "#Exibir o resultado\n",
    "print(multiplicaçao)"
   ]
  },
  {
   "cell_type": "code",
   "execution_count": 17,
   "metadata": {},
   "outputs": [
    {
     "name": "stdout",
     "output_type": "stream",
     "text": [
      "900.0\n",
      "Você obteve R$ 200.0 desconto, e pagou R$ 900.0\n"
     ]
    }
   ],
   "source": [
    "#Passo 1: Receber o valor do celular\n",
    "valor = float(input('O valor do celular: '))\n",
    "#Passo 2: Receber o valor do desconto\n",
    "desconto =float(input('Valor do desconto: '))\n",
    "#Passo 3: Receber o valor total\n",
    "valor = valor - desconto \n",
    "print(valor)\n",
    "print(f'Você obteve R$ {desconto} desconto, e pagou R$ {valor}')\n"
   ]
  },
  {
   "cell_type": "code",
   "execution_count": 18,
   "metadata": {},
   "outputs": [
    {
     "name": "stdout",
     "output_type": "stream",
     "text": [
      "2.0\n",
      "4.0\n",
      "120.0\n"
     ]
    }
   ],
   "source": [
    "numero = 4 / 2\n",
    "print (numero)\n",
    "numero = numero ** 2\n",
    "print(numero)\n",
    "numero = numero * (50 - 20)\n",
    "print(numero)\n"
   ]
  },
  {
   "cell_type": "code",
   "execution_count": 22,
   "metadata": {},
   "outputs": [
    {
     "name": "stdout",
     "output_type": "stream",
     "text": [
      "12000\n",
      "Com 8 horas diarias de trabalhos, por 15 dias, custando R$ 100 horas. O Valor foi R$ 12000\n"
     ]
    }
   ],
   "source": [
    "horaDiaria = 8\n",
    "dias = 15\n",
    "valorPorHoras = 100\n",
    "total = (horaDiaria * dias * valorPorHoras)\n",
    "print(horaDiaria * dias * valorPorHoras)\n",
    "print(f'Com {horaDiaria} horas diarias de trabalhos, por {dias} dias, custando R$ {valorPorHoras} horas. O Valor foi R$ {total}')"
   ]
  },
  {
   "cell_type": "markdown",
   "metadata": {},
   "source": [
    "🍒🍓29/02/2024 - Operadores relacionais e estrutura condicional"
   ]
  },
  {
   "cell_type": "code",
   "execution_count": 6,
   "metadata": {},
   "outputs": [
    {
     "name": "stdout",
     "output_type": "stream",
     "text": [
      "a > b ? False\n",
      "a == b ? False\n",
      "a != b ? True\n",
      "a > 2 ? False\n",
      "a >= 2 ? True\n"
     ]
    }
   ],
   "source": [
    "a = 2\n",
    "b = 3\n",
    "print(f'a > b ? {a > b}')\n",
    "print(f'a == b ? {a == b}')\n",
    "print(f'a != b ? {a != b}')\n",
    "print(f'a > 2 ? {a > 2}')\n",
    "print(f'a >= 2 ? {a >= 2}')"
   ]
  },
  {
   "cell_type": "code",
   "execution_count": null,
   "metadata": {},
   "outputs": [],
   "source": [
    "tenhoIngresso = True\n",
    "if tenhoIngresso == True :\n",
    "    print('posso entrar')\n",
    "    print('fim')"
   ]
  },
  {
   "cell_type": "code",
   "execution_count": 38,
   "metadata": {},
   "outputs": [
    {
     "name": "stdout",
     "output_type": "stream",
     "text": [
      "FIM\n"
     ]
    }
   ],
   "source": [
    "\n",
    "\n",
    "\n",
    "\n",
    "\n",
    "\n",
    "\n",
    "\n",
    "\n",
    "\n",
    "\n",
    "#Passo 1: Receber a idade\n",
    "idade = int(input('Digite a idade: '))\n",
    "#Passo 2: Verificar SE é maior ou igual a 18 anos ENTÂO\n",
    "if idade >= 18 :\n",
    "  #Passo 3: Se for Exibir \"Maior de idade\"\n",
    "  print(\"Maior de idade\")\n",
    "\n"
   ]
  },
  {
   "cell_type": "code",
   "execution_count": 33,
   "metadata": {},
   "outputs": [
    {
     "name": "stdout",
     "output_type": "stream",
     "text": [
      "posso entrar\n",
      "**********\n",
      "**********\n",
      "FIM\n"
     ]
    }
   ],
   "source": [
    "tenhoIngresso = True\n",
    "if tenhoIngresso == True :\n",
    "    print('posso entrar')\n",
    "    print('**********')\n",
    "    print('**********')\n",
    "\n",
    "else :\n",
    "    print('Não pode entrar')\n",
    "    "
   ]
  },
  {
   "cell_type": "code",
   "execution_count": 39,
   "metadata": {},
   "outputs": [
    {
     "name": "stdout",
     "output_type": "stream",
     "text": [
      "Menor de idade\n",
      "FIM\n"
     ]
    }
   ],
   "source": [
    "#Passo 1: Receber a idade\n",
    "idade = int(input('Digite a idade: '))\n",
    "#Passo 2: Verificar SE é maior ou igual a 18 anos ENTÂO\n",
    "if idade >= 18 :\n",
    "  #Passo 3: Se for Exibir \"Maior de idade\"\n",
    "  print(\"Maior de idade\")\n",
    "\n",
    "else :\n",
    "  print('Menor de idade')\n"
   ]
  },
  {
   "cell_type": "markdown",
   "metadata": {},
   "source": [
    "🥀🌹01/03/2024 - Operadores Lógicos e Estrutura condicional"
   ]
  },
  {
   "cell_type": "code",
   "execution_count": 2,
   "metadata": {},
   "outputs": [
    {
     "name": "stdout",
     "output_type": "stream",
     "text": [
      "False\n",
      "False\n",
      "True\n",
      "True\n"
     ]
    }
   ],
   "source": [
    "a = 2\n",
    "b = 3\n",
    "c = 5\n",
    "#      False    e    False\n",
    "print((a > 2) and (b < 2)) # False\n",
    "#      False  ou    False\n",
    "print((a > 2) or (b < 2)) # False\n",
    "#      False  ou   True\n",
    "print((a > 2) or (b < 5))# True\n",
    "\n",
    "idade = 18\n",
    "#          False         True\n",
    "print(idade > 18 or idade == 18 ) # True\n",
    "#           idade >= 18\n",
    "\n"
   ]
  },
  {
   "cell_type": "code",
   "execution_count": 11,
   "metadata": {},
   "outputs": [
    {
     "name": "stdout",
     "output_type": "stream",
     "text": [
      "Seu IMC é 29.387755102040817\n",
      "Sobrepeso\n"
     ]
    }
   ],
   "source": [
    "altura = float(input('Digite a altura'))\n",
    "peso = float(input('Digite seu peso'))\n",
    "imc = peso / (altura ** 2)\n",
    "print(f'Seu IMC é {imc}')\n",
    "if imc < 18.5 :\n",
    "    print('abaixo do peso ideal')\n",
    "\n",
    "elif imc >= 18.6 and imc <= 24.9:\n",
    "    print('Peso Ideal!! ')\n",
    "\n",
    "elif imc >= 25 and imc <= 29.9:\n",
    "    print('Sobrepeso')\n",
    "\n",
    "else :\n",
    "    print('Obesidade ')"
   ]
  },
  {
   "cell_type": "code",
   "execution_count": 14,
   "metadata": {},
   "outputs": [
    {
     "name": "stdout",
     "output_type": "stream",
     "text": [
      "Triângulo Escaleno\n"
     ]
    }
   ],
   "source": [
    "lado1 = input('Digite lado 1: ')\n",
    "lado2 = input('Digite lado 2: ')\n",
    "lado3= input('Digite lado 3: ')\n",
    "if (lado1 == lado2) and (lado2 == lado3):\n",
    "    print('Triângulo Escalâtero')\n",
    "\n",
    "elif(lado1 != lado2) and (lado2 != lado3) and (lado1 != lado3):\n",
    "    print('Triângulo Escaleno')\n",
    "\n",
    "else:\n",
    "    print('Triângulo Isósceles')"
   ]
  },
  {
   "cell_type": "code",
   "execution_count": null,
   "metadata": {},
   "outputs": [],
   "source": [
    "letra = input(\"Digite uma letra: \")\n",
    "if letra == 'a' or letra == 'e' or letra == 'i' or letra == 'o' or letra == 'u' :\n",
    "    print(f'A letra {letra} é uma vogal')\n",
    "\n",
    "elif letra == '1' or letra == '2' or letra == '3' or letra == '4' or letra == '5' or letra == '6' or letra == '7' or letra == '8' or letra == '9' :\n",
    "    print(f'A letra {letra} é um número')\n",
    "\n",
    "else :\n",
    "    print(f'A letra {letra} não é uma vogal')"
   ]
  },
  {
   "cell_type": "markdown",
   "metadata": {},
   "source": [
    "🌷🌸07/03/2024 - Estrutura condicional aninhada / match case"
   ]
  },
  {
   "cell_type": "code",
   "execution_count": 5,
   "metadata": {},
   "outputs": [
    {
     "name": "stdout",
     "output_type": "stream",
     "text": [
      "Você é obrigado a votar\n",
      "Fim\n"
     ]
    }
   ],
   "source": [
    "idade = int (input('Digite sua idade: '))\n",
    "if idade >= 18 and idade <= 70 :\n",
    "    print('Você é obrigado a votar' )\n",
    "\n",
    "else:\n",
    "    if idade < 16 :\n",
    "        print ('Você não pode votar' )\n",
    "    else: \n",
    "        if idade >= 16 or idade > 70 :\n",
    "            print ('Seu voto é facultativo')\n",
    "\n",
    "print('Fim')"
   ]
  },
  {
   "cell_type": "code",
   "execution_count": null,
   "metadata": {},
   "outputs": [],
   "source": [
    "numero1 = int (input ('Digite numero 1: '))\n",
    "numero2 = int (input ('Digite numero 2: '))\n",
    "operador = input ('Digite uma operação (+-*/**)' )\n",
    "if operador == '+' :\n",
    "    print (numero1 + numero2)\n",
    "elif operador == '-' :\n",
    "    print (numero1 - numero2)\n",
    "elif operador == '*' :\n",
    "    print (numero1 * numero2)\n",
    "elif operador == '/' :\n",
    "    print (numero1 / numero2)\n",
    "elif operador == '**' :\n",
    "    print (numero1 ** numero2)\n"
   ]
  },
  {
   "cell_type": "code",
   "execution_count": 2,
   "metadata": {},
   "outputs": [
    {
     "name": "stdout",
     "output_type": "stream",
     "text": [
      "5 / 5 = 1.0\n"
     ]
    }
   ],
   "source": [
    "# match case (switch case)\n",
    "numero1 = int (input ('Digite numero 1: '))\n",
    "numero2 = int (input ('Digite numero 2: '))\n",
    "operador = input ('Digite uma operação (+-*/**)' )\n",
    "\n",
    "match operador:\n",
    "    case '+' :\n",
    "        print (f'{numero1} {operador} {numero2} = {numero1 + numero2}')\n",
    "    case '-' :\n",
    "        print (f'{numero1} {operador} {numero2} = {numero1 - numero2}')\n",
    "    case '*' :\n",
    "        print (f'{numero1} {operador} {numero2} = {numero1 * numero2}')\n",
    "    case '/' :\n",
    "        print (f'{numero1} {operador} {numero2} = {numero1 / numero2}')\n",
    "    case '**' :\n",
    "        print (f'{numero1} {operador} {numero2} = {numero1 ** numero2}')\n",
    "    case _ :\n",
    "        print('Operador digitado inválido')\n"
   ]
  },
  {
   "cell_type": "markdown",
   "metadata": {},
   "source": [
    "☁💐08/03/2024 - laço de repetição - While"
   ]
  },
  {
   "cell_type": "code",
   "execution_count": 1,
   "metadata": {},
   "outputs": [
    {
     "name": "stdout",
     "output_type": "stream",
     "text": [
      "Eu vou prestar atenção na aula 1\n",
      "Eu vou prestar atenção na aula 2\n",
      "Eu vou prestar atenção na aula 3\n",
      "Eu vou prestar atenção na aula 4\n",
      "Eu vou prestar atenção na aula 5\n",
      "Eu vou prestar atenção na aula 6\n",
      "Eu vou prestar atenção na aula 7\n",
      "Eu vou prestar atenção na aula 8\n",
      "Eu vou prestar atenção na aula 9\n",
      "Eu vou prestar atenção na aula 10\n",
      "FIM\n"
     ]
    }
   ],
   "source": [
    "x = 1\n",
    "while x <= 10 : \n",
    "     print('Eu vou prestar atenção na aula', x)\n",
    "     x = x + 1\n",
    "print('FIM')"
   ]
  },
  {
   "cell_type": "code",
   "execution_count": 2,
   "metadata": {},
   "outputs": [
    {
     "name": "stdout",
     "output_type": "stream",
     "text": [
      "10\n",
      "9\n",
      "8\n",
      "7\n",
      "6\n",
      "5\n",
      "4\n",
      "3\n",
      "2\n",
      "1\n",
      "0\n",
      "Feliz ano novo ✨\n"
     ]
    }
   ],
   "source": [
    "import time #importando uma biblioteca de tempo\n",
    "x = 10\n",
    "while x >= 0 :\n",
    "    print(x)\n",
    "    time.sleep(0.5)  #Dando uma pausa de 1s na execução\n",
    "    x = x - 1\n",
    "print('Feliz ano novo ✨')"
   ]
  },
  {
   "cell_type": "code",
   "execution_count": 7,
   "metadata": {},
   "outputs": [
    {
     "name": "stdout",
     "output_type": "stream",
     "text": [
      "Seja bem vindo, Nathalia\n"
     ]
    }
   ],
   "source": [
    "texto = ''\n",
    "while texto == '' :\n",
    "    texto = input('Digite seu nome (\"Sair\" para terminar):')\n",
    "    print(f'Seja bem vindo, {texto}')\n"
   ]
  },
  {
   "cell_type": "code",
   "execution_count": 11,
   "metadata": {},
   "outputs": [
    {
     "name": "stdout",
     "output_type": "stream",
     "text": [
      "Você esta preso tentando hacker a rede\n",
      "FIM\n"
     ]
    }
   ],
   "source": [
    "senhaSenai = '12345'\n",
    "nrTentativa = 0\n",
    "while True :\n",
    "    senha = input('Qual a senha 🤨? \"Desisto\" para sair🔒')\n",
    "    if senha == senhaSenai :\n",
    "        print('Você hackeou a rede')\n",
    "        break\n",
    "    elif senhaSenai == 'Desisto' :\n",
    "        break\n",
    "    else :\n",
    "        nrTentativa = nrTentativa + 1\n",
    "        if nrTentativa == 3 :\n",
    "            print('Você esta preso tentando hacker a rede')\n",
    "            break\n",
    "print('FIM')"
   ]
  },
  {
   "cell_type": "markdown",
   "metadata": {},
   "source": [
    "⁘❤💞🌹 21/03/2024 - Revisão de While"
   ]
  },
  {
   "cell_type": "code",
   "execution_count": 2,
   "metadata": {},
   "outputs": [
    {
     "name": "stdout",
     "output_type": "stream",
     "text": [
      "FIM\n"
     ]
    }
   ],
   "source": [
    "resp = 'S'\n",
    "while resp == 'S' :\n",
    "    resp = input('Deseja continuar? [S/N]')\n",
    "\n",
    "print('FIM')"
   ]
  },
  {
   "cell_type": "code",
   "execution_count": 10,
   "metadata": {},
   "outputs": [
    {
     "name": "stdout",
     "output_type": "stream",
     "text": [
      "Valor total 💵💳 R$ 15.00 com 1 produtos \n"
     ]
    }
   ],
   "source": [
    "soma = 0\n",
    "qtde = 0\n",
    "while True :\n",
    "    valor = float(input('Digite o valor do produto [-1 para encerrar]'))\n",
    "    if valor == -1 :\n",
    "        break\n",
    "    soma = valor + soma \n",
    "    qtde = qtde + 1\n",
    "\n",
    "print (f'Valor total 💵💳 R$ {soma:.2f} com {qtde} produtos ')"
   ]
  },
  {
   "cell_type": "code",
   "execution_count": null,
   "metadata": {},
   "outputs": [],
   "source": [
    "print ('...................................')\n",
    "print (':    🎲  JOGO DA ADIVINHAÇÃO 🎲   :')\n",
    "print ('...................................')\n",
    "\n",
    "#Importando a biblioteca de números aleatorios\n",
    "import random\n",
    "#Sorteando um número de 1 a 100\n",
    "nrSorteado = random.randint(1, 100)\n",
    "\n",
    "acertou = False\n",
    "while acertou == False :\n",
    "    chute = int(input('🕵️‍♀️Digite um número entre 1 a 100: '))\n",
    "    if chute == nrSorteado :\n",
    "        print(f'Você chutou {chute}. Parabéns você acertou 👏👏👏')\n",
    "        acertou = True \n",
    "    elif chute > nrSorteado :\n",
    "        print(f'Você chutou {chute}. Tente um número menor')\n",
    "    else :\n",
    "        print(f'Você chutou {chute}. Tente um número maior')\n",
    "\n",
    "\n",
    "print('FIM')"
   ]
  },
  {
   "cell_type": "markdown",
   "metadata": {},
   "source": [
    "✨💻22/03/2024 - For"
   ]
  },
  {
   "cell_type": "code",
   "execution_count": 1,
   "metadata": {},
   "outputs": [
    {
     "name": "stdout",
     "output_type": "stream",
     "text": [
      "1\n",
      "2\n",
      "3\n",
      "4\n",
      "5\n"
     ]
    }
   ],
   "source": [
    "# x = 1\n",
    "# while x <= 20 :\n",
    "#    print(x)\n",
    "#    x = x + 1\n",
    "# print ('FIM')\n",
    "\n",
    "for x in range (5) :\n",
    "    x = x + 1\n",
    "    print(x)"
   ]
  },
  {
   "cell_type": "code",
   "execution_count": null,
   "metadata": {},
   "outputs": [],
   "source": [
    "print('Entregando os notebooks')\n",
    "for nr in range (32) :\n",
    "    nr = nr + 1\n",
    "    nome = input(f'Quem é o n° {nr} ?')\n",
    "    presente = input(f'O(a) nome veio para a escola? [S/N]')\n",
    "    if presente == 'S' :\n",
    "        print(f'pegar o notebook {nr}')\n",
    "        print(f'pegar o mouse {nr}')\n",
    "        print(f'Levar o notebook até o(a) {nome}')\n",
    "    else:\n",
    "        print(f'Não pegar o notebook {nr}') \n",
    "\n",
    "print('Começar a aula')"
   ]
  },
  {
   "cell_type": "code",
   "execution_count": 6,
   "metadata": {},
   "outputs": [
    {
     "name": "stdout",
     "output_type": "stream",
     "text": [
      "5\n",
      "6\n",
      "7\n",
      "8\n",
      "9\n"
     ]
    }
   ],
   "source": [
    "for x in range (5, 10) :\n",
    "    print(x)"
   ]
  },
  {
   "cell_type": "code",
   "execution_count": 23,
   "metadata": {},
   "outputs": [
    {
     "name": "stdout",
     "output_type": "stream",
     "text": [
      "5\n",
      "7\n",
      "9\n",
      "11\n",
      "13\n",
      "15\n",
      "17\n",
      "19\n",
      "21\n",
      "23\n",
      "25\n",
      "27\n",
      "29\n"
     ]
    }
   ],
   "source": [
    "for x in range (5, 30, 2) :\n",
    "    print(x)"
   ]
  },
  {
   "cell_type": "code",
   "execution_count": 18,
   "metadata": {},
   "outputs": [
    {
     "name": "stdout",
     "output_type": "stream",
     "text": [
      "9 x 0 = 0\n",
      "9 x 1 = 9\n",
      "9 x 2 = 18\n",
      "9 x 3 = 27\n",
      "9 x 4 = 36\n",
      "9 x 5 = 45\n",
      "9 x 6 = 54\n",
      "9 x 7 = 63\n",
      "9 x 8 = 72\n",
      "9 x 9 = 81\n"
     ]
    }
   ],
   "source": [
    "\n",
    "n = int(input(f'Escolhe um valor: '))\n",
    "for x in range (10) :\n",
    "    print(f'{n} x {x} = {n*x}')"
   ]
  },
  {
   "cell_type": "code",
   "execution_count": 16,
   "metadata": {},
   "outputs": [
    {
     "name": "stdout",
     "output_type": "stream",
     "text": [
      "S\n",
      "E\n",
      "S\n",
      "I\n",
      "/\n",
      "S\n",
      "E\n",
      "N\n",
      "A\n",
      "I\n",
      "FIM\n"
     ]
    }
   ],
   "source": [
    "for letra in 'SESI/SENAI' :\n",
    "    print(letra)\n",
    "print('FIM')"
   ]
  },
  {
   "cell_type": "code",
   "execution_count": 22,
   "metadata": {},
   "outputs": [
    {
     "name": "stdout",
     "output_type": "stream",
     "text": [
      "0\n",
      "1\n",
      "2\n",
      "3\n",
      "4\n",
      "5\n",
      "6\n",
      "7\n",
      "8\n",
      "9\n"
     ]
    }
   ],
   "source": [
    "for x in range (100) :\n",
    "    if x == 10 :\n",
    "        break\n",
    "    print(x)\n"
   ]
  },
  {
   "cell_type": "markdown",
   "metadata": {},
   "source": [
    "✨💞28/03/2024 - Variaveis Compostos - Vetores / Lista"
   ]
  },
  {
   "cell_type": "code",
   "execution_count": 4,
   "metadata": {},
   "outputs": [
    {
     "name": "stdout",
     "output_type": "stream",
     "text": [
      "['Maça', 'Banana', 'Abacaxi', 'Uva']\n",
      "Banana\n"
     ]
    }
   ],
   "source": [
    "frutas = ['Maça', 'Banana', 'Abacaxi', 'Uva']\n",
    "print(frutas)\n",
    "print(frutas [1])\n",
    "\n",
    "#Declaração de uma lista vazia\n",
    "listaVazia = []\n",
    "\n",
    "#Declaração de uma lista de números\n",
    "numeros = [5, 8, 10, 40, 3]\n",
    "\n",
    "#Declaração de uma lista de strings\n",
    "nomes = ['Ana', 'João', 'Maria']\n",
    "\n",
    "#Declaração de uma lista de mista\n",
    "listaMista = [1, \"teste\", True, 3.5]\n"
   ]
  },
  {
   "cell_type": "code",
   "execution_count": 19,
   "metadata": {},
   "outputs": [
    {
     "name": "stdout",
     "output_type": "stream",
     "text": [
      "['Maça', 'Banana', 'Abacaxi', 'Melancia']\n",
      "['Maça', 'Banana', 'Abacaxi', 'Melancia', 'Laranja']\n",
      "['Maça', 'Banana', 'Morango', 'Abacaxi', 'Melancia', 'Laranja']\n",
      "['Maça', 'Banana', 'Morango', 'Melancia']\n"
     ]
    }
   ],
   "source": [
    "frutas = ['Maça', 'Banana', 'Abacaxi', 'Uva']\n",
    "#Alterando o valor de um item da lista\n",
    "frutas[3] = 'Melancia'\n",
    "print(frutas)\n",
    "\n",
    "#Incluindo um novo item no final da lista\n",
    "frutas.append ('Laranja')\n",
    "print(frutas)\n",
    "\n",
    "#Incluindo um novo item em uma posição específica\n",
    "frutas.insert(2, 'Morango')\n",
    "print(frutas)\n",
    "\n",
    "#Excluindo item da lista\n",
    "#del frutas[3]\n",
    "#frutas.pop(3)\n",
    "frutas.remove('Abacaxi')\n",
    "#Excluindo último item da lista\n",
    "frutas.pop()\n",
    "print(frutas)"
   ]
  },
  {
   "cell_type": "code",
   "execution_count": 22,
   "metadata": {},
   "outputs": [
    {
     "name": "stdout",
     "output_type": "stream",
     "text": [
      "Melancia\n",
      "['Maça', 'Banana', 'Morango', 'Abacaxi']\n",
      "['Banana', 'Morango', 'Abacaxi', 'Melancia', 'Laranja', 'Uva']\n",
      "Uva\n",
      "7\n"
     ]
    }
   ],
   "source": [
    "frutas = ['Maça', 'Banana', 'Morango', 'Abacaxi', 'Melancia', 'Laranja', 'Uva']\n",
    "print(frutas[4])   # Posição especifica\n",
    "print(frutas[0:4]) # Da posição 0 pegar 4 item\n",
    "print(frutas[1:])  # Da posição 1 até o ultimo\n",
    "print(frutas[-1])  # Nr de itens do fim pro inicio\n",
    "print(len(frutas)) # Total de itens da lista"
   ]
  },
  {
   "cell_type": "code",
   "execution_count": 25,
   "metadata": {},
   "outputs": [
    {
     "name": "stdout",
     "output_type": "stream",
     "text": [
      "['Abacaxi', 'Banana', 'Laranja', 'Maça', 'Melancia', 'Morango', 'Uva']\n",
      "['Uva', 'Morango', 'Melancia', 'Maça', 'Laranja', 'Banana', 'Abacaxi']\n"
     ]
    }
   ],
   "source": [
    "frutas = ['Maça', 'Banana', 'Morango', 'Abacaxi', 'Melancia', 'Laranja', 'Uva']\n",
    "frutas.sort()    # Ordenando lista em ordem crecente\n",
    "print(frutas)\n",
    "\n",
    "frutas.reverse() # Ordenando lista em ordem decrescente\n",
    "print(frutas)"
   ]
  },
  {
   "cell_type": "markdown",
   "metadata": {},
   "source": [
    "✨🍒 04/04/2024 - Iteração em listas"
   ]
  },
  {
   "cell_type": "code",
   "execution_count": 12,
   "metadata": {},
   "outputs": [
    {
     "name": "stdout",
     "output_type": "stream",
     "text": [
      "Vinnie Hacker\n",
      "Jordan Powell\n",
      "Jacob Day\n",
      "Bryce Hall\n"
     ]
    }
   ],
   "source": [
    "listaNome = ['Vinnie Hacker', 'Jordan Powell',  'Jacob Day', 'Bryce Hall']\n",
    "for nome in listaNome :\n",
    "    print (nome)"
   ]
  },
  {
   "cell_type": "code",
   "execution_count": null,
   "metadata": {},
   "outputs": [],
   "source": [
    "# utilizando lista com números\n",
    "\n",
    "listaNumero = [4,6,2,5,9]\n",
    "soma = 0\n",
    "\n",
    "for nr in listaNumero :\n",
    "    soma = soma + nr\n",
    "print(soma)\n",
    "\n",
    "# Essa função "
   ]
  },
  {
   "cell_type": "code",
   "execution_count": 13,
   "metadata": {},
   "outputs": [
    {
     "name": "stdout",
     "output_type": "stream",
     "text": [
      "A fruta Maçã está na posição 0\n",
      "A fruta Banana está na posição 1\n",
      "A fruta Abacaxi está na posição 2\n",
      "A fruta Uva está na posição 3\n"
     ]
    }
   ],
   "source": [
    "listaFruta = ['Maçã', 'Banana', 'Abacaxi', 'Uva']\n",
    "for pos,fruta in enumerate(listaFruta) :\n",
    "    print(f'A fruta {fruta} está na posição {pos}')\n"
   ]
  },
  {
   "cell_type": "code",
   "execution_count": 15,
   "metadata": {},
   "outputs": [
    {
     "name": "stdout",
     "output_type": "stream",
     "text": [
      "Celular📱\n",
      " Notebook💻\n",
      " TV📺\n",
      " Tablet📱\n",
      " headset\n"
     ]
    }
   ],
   "source": [
    "produtos = 'Celular📱, Notebook💻, TV📺, Tablet📱, headset'\n",
    "listaProdutos = produtos.split(',')\n",
    "\n",
    "for produto in listaProdutos :\n",
    "    print(produto)"
   ]
  },
  {
   "cell_type": "code",
   "execution_count": 16,
   "metadata": {},
   "outputs": [
    {
     "name": "stdout",
     "output_type": "stream",
     "text": [
      "S\n",
      "E\n",
      "N\n",
      "A\n",
      "I\n",
      "S\n",
      "I\n"
     ]
    }
   ],
   "source": [
    "palavra = 'SENAI'\n",
    "for letra in palavra :\n",
    "    print(letra)\n",
    "\n",
    "print(palavra[0])\n",
    "print(palavra[-1])"
   ]
  },
  {
   "cell_type": "code",
   "execution_count": 3,
   "metadata": {},
   "outputs": [
    {
     "name": "stdout",
     "output_type": "stream",
     "text": [
      "1° Pizza\n",
      "Pizza\n"
     ]
    }
   ],
   "source": [
    "# Criando uma lista vazia\n",
    "listaComidas = []\n",
    "# Laço de repetição sem um nr de execução definida\n",
    "while True :\n",
    "    # Recebendo informação do usuário e armazenando em uma variavel\n",
    "    comida = input('Digite uma comida que vc mais gosta: ')\n",
    "    # Incerindo o valor da variavel no final da nossa lista\n",
    "    listaComidas.append(comida)\n",
    "    # Obtendo a resposta do usuário se deseja continuar\n",
    "    resp = input('Deseja continuar? [S/N]')\n",
    "    if resp in 'Nn':\n",
    "        # Parando o laço de repetição While\n",
    "        break\n",
    "\n",
    "# Fora do While - após finalizar sua executação e encontrar o break\n",
    "# Laço de repetição para exibir os itens e suas posições\n",
    "for pos, comida in enumerate(listaComidas) :\n",
    "    # Exibindo as variáveis de cada itens da lista \n",
    "    print(f'{pos+1}° {comida}')\n",
    "\n",
    "print(listaComidas[0])"
   ]
  },
  {
   "cell_type": "markdown",
   "metadata": {},
   "source": [
    "✨❤ 11/04/2024 - Funções"
   ]
  },
  {
   "cell_type": "code",
   "execution_count": 2,
   "metadata": {},
   "outputs": [
    {
     "name": "stdout",
     "output_type": "stream",
     "text": [
      "--------------------\n",
      "SENAI / SENAI\n",
      "--------------------\n"
     ]
    }
   ],
   "source": [
    "print('-' * 20)\n",
    "print('SENAI / SENAI')\n",
    "print( '-' * 20)"
   ]
  },
  {
   "cell_type": "code",
   "execution_count": 3,
   "metadata": {},
   "outputs": [
    {
     "name": "stdout",
     "output_type": "stream",
     "text": [
      "----------------------------------------\n",
      "SESI/SENAI\n",
      "----------------------------------------\n"
     ]
    }
   ],
   "source": [
    "def Linha():\n",
    "    print('-' * 40)\n",
    "\n",
    "Linha()\n",
    "print ('SESI/SENAI')\n",
    "Linha()"
   ]
  },
  {
   "cell_type": "code",
   "execution_count": 4,
   "metadata": {},
   "outputs": [],
   "source": [
    "def Cabecalho() :\n",
    "    print('-' * 20)\n",
    "    print('SESI/SENAI')\n",
    "    print('-' * 20)"
   ]
  },
  {
   "cell_type": "code",
   "execution_count": 14,
   "metadata": {},
   "outputs": [
    {
     "name": "stdout",
     "output_type": "stream",
     "text": [
      "Nathy ... Tenha um Bom Dia\n",
      "Yuri ... Tenha um Bom Dia\n",
      "Debora ... Tenha um Bom Dia\n"
     ]
    }
   ],
   "source": [
    "def Saudacao () :\n",
    "    nome = input('Digite seu nome:')\n",
    "    print(f'{nome} ... Tenha um Bom Dia')\n",
    "for n in range (3):\n",
    "    Saudacao()"
   ]
  },
  {
   "cell_type": "code",
   "execution_count": null,
   "metadata": {},
   "outputs": [],
   "source": [
    "def Cabecalho (texto):\n",
    "    print('-' * 20)\n",
    "    print('Texto')\n",
    "    print()"
   ]
  },
  {
   "cell_type": "code",
   "execution_count": 15,
   "metadata": {},
   "outputs": [],
   "source": [
    "def Soma(n1, n2) :\n",
    "    resp = n1 + n2\n",
    "    print(f'A soma de {n1} +{n2} é {resp}')"
   ]
  },
  {
   "cell_type": "code",
   "execution_count": null,
   "metadata": {},
   "outputs": [],
   "source": [
    "def ParImpar (nr):\n",
    "    nrRecebido = int(str(numero))\n",
    "    if nr % 2 == 0:\n",
    "        print(f'O nr {numero} é par')\n",
    "    else:\n",
    "        print(f'O nr {numero} é Impar')\n",
    "\n",
    "\n"
   ]
  },
  {
   "cell_type": "code",
   "execution_count": 17,
   "metadata": {},
   "outputs": [
    {
     "name": "stdout",
     "output_type": "stream",
     "text": [
      "9.0\n",
      "6.0\n"
     ]
    }
   ],
   "source": [
    "def Media (n1, n2):\n",
    "    res = (n1 + n2) / 2\n",
    "    return(res)\n",
    "# A variavel resultadoMedia recebi o retorno da função Media\n",
    "resultadoMedia= Media(10, 8)\n",
    "print(resultadoMedia)\n",
    "print(Media(10, 2))"
   ]
  },
  {
   "cell_type": "code",
   "execution_count": null,
   "metadata": {},
   "outputs": [],
   "source": [
    "listaNr = [4,6,2,5,9]\n",
    "soma = 0\n",
    "for nr in listaNr:\n",
    "    soma = soma + nr\n",
    "print(soma)"
   ]
  },
  {
   "cell_type": "code",
   "execution_count": 2,
   "metadata": {},
   "outputs": [
    {
     "data": {
      "text/plain": [
       "'8/5/2008'"
      ]
     },
     "execution_count": 2,
     "metadata": {},
     "output_type": "execute_result"
    }
   ],
   "source": [
    "def FormatarData (d,m,a):\n",
    "    Data = (f'{d}/{m}/{a}')\n",
    "    return (Data)\n",
    "FormatarData(8,5,2008)\n"
   ]
  },
  {
   "cell_type": "markdown",
   "metadata": {},
   "source": [
    "💌🔱💖 12/04/2024 - Escopo de variáveis (variável local e global)"
   ]
  },
  {
   "cell_type": "code",
   "execution_count": 2,
   "metadata": {},
   "outputs": [
    {
     "name": "stdout",
     "output_type": "stream",
     "text": [
      "Valor ANTES da função SENAI\n",
      "Valor dentro da função SESI\n",
      "Valor DEPOIS da função SENAI \n"
     ]
    }
   ],
   "source": [
    "def NomeEscola():\n",
    "    escola = 'SESI'\n",
    "    print(f'Valor dentro da função {escola}')\n",
    "escola = 'SENAI'\n",
    "print(f'Valor ANTES da função {escola}')\n",
    "NomeEscola()\n",
    "print(f'Valor DEPOIS da função {escola} ')"
   ]
  },
  {
   "cell_type": "code",
   "execution_count": 4,
   "metadata": {},
   "outputs": [
    {
     "name": "stdout",
     "output_type": "stream",
     "text": [
      "Valor ANTES da função SENAI\n",
      "Valor dentro da função SESI\n",
      "Valor DEPOIS da função SESI\n"
     ]
    }
   ],
   "source": [
    "def NomeEscola():\n",
    "    #Caso eu queira atualizar o conteúdo da variável escola\n",
    "    # Preciso escrever que ela é a global\n",
    "    global escola\n",
    "    escola = 'SESI'  # Alterando o valor da variavel global\n",
    "    print(f'Valor dentro da função {escola}')\n",
    "\n",
    "\n",
    "escola = 'SENAI'\n",
    "print(f'Valor ANTES da função {escola}') \n",
    "NomeEscola()\n",
    "print(f'Valor DEPOIS da função {escola}') "
   ]
  },
  {
   "cell_type": "code",
   "execution_count": 6,
   "metadata": {},
   "outputs": [
    {
     "name": "stdout",
     "output_type": "stream",
     "text": [
      "fora da função 10\n",
      "Dentro da função 1\n",
      "fora da função 10\n"
     ]
    }
   ],
   "source": [
    "x = 10 # x é uma variavel global \n",
    "# Podemos acessar x fora de uma função também\n",
    "print('fora da função', x)\n",
    "def minhaFuncao():\n",
    "    x = 0 # <- variavel local\n",
    "    x = x + 1 \n",
    "    print('Dentro da função', x)\n",
    "\n",
    "minhaFuncao()\n",
    "print('fora da função', x)\n"
   ]
  },
  {
   "cell_type": "code",
   "execution_count": 7,
   "metadata": {},
   "outputs": [
    {
     "name": "stdout",
     "output_type": "stream",
     "text": [
      "fora da função 10\n",
      "Dentro da função 11\n",
      "fora da função 11\n"
     ]
    }
   ],
   "source": [
    "x = 10 # x é uma variavel global \n",
    "# Podemos acessar x fora de uma função também\n",
    "print('fora da função', x)\n",
    "def minhaFuncao():\n",
    "    global x # Dizendo que usamos a variavel x global\n",
    "    x = x + 1 \n",
    "    print('Dentro da função', x)\n",
    "\n",
    "minhaFuncao()\n",
    "print('fora da função', x)\n"
   ]
  },
  {
   "cell_type": "code",
   "execution_count": 8,
   "metadata": {},
   "outputs": [
    {
     "name": "stdout",
     "output_type": "stream",
     "text": [
      "fora da função 10\n",
      "Dentro da função 11\n",
      "fora da função 11\n"
     ]
    }
   ],
   "source": [
    "x = 10 # x é uma variavel global \n",
    "# Podemos acessar x fora de uma função também\n",
    "print('fora da função', x)\n",
    "def minhaFuncao():\n",
    "    '''\n",
    "        Aqui posso escrever a descrição do que faz a minha função\n",
    "    '''\n",
    "    global x # Dizendo que usamos a variavel x global\n",
    "    x = x + 1 \n",
    "    print('Dentro da função', x)\n",
    "\n",
    "minhaFuncao()\n",
    "print('fora da função', x)"
   ]
  },
  {
   "cell_type": "code",
   "execution_count": null,
   "metadata": {},
   "outputs": [],
   "source": []
  },
  {
   "cell_type": "code",
   "execution_count": 1,
   "metadata": {},
   "outputs": [
    {
     "name": "stdout",
     "output_type": "stream",
     "text": [
      "JNPzz@gL\n"
     ]
    }
   ],
   "source": [
    "import random\n",
    "def QualquerSenha(tama):\n",
    "    caracteres = 'abcdefghijklmnopqrstuvwxzABCDEFGHIJKLMNOPQRSTUVWXZ0123456789!@#$%¨&*()\"/-+,.:;|?°'\n",
    "    senha = ''\n",
    "    for i in range(tama):\n",
    "        senha = senha + random.choice(caracteres)\n",
    "    return(senha)\n",
    "senhaTemp = QualquerSenha(8)\n",
    "print(senhaTemp)"
   ]
  }
 ],
 "metadata": {
  "kernelspec": {
   "display_name": "Python 3",
   "language": "python",
   "name": "python3"
  },
  "language_info": {
   "codemirror_mode": {
    "name": "ipython",
    "version": 3
   },
   "file_extension": ".py",
   "mimetype": "text/x-python",
   "name": "python",
   "nbconvert_exporter": "python",
   "pygments_lexer": "ipython3",
   "version": "3.12.2"
  }
 },
 "nbformat": 4,
 "nbformat_minor": 2
}

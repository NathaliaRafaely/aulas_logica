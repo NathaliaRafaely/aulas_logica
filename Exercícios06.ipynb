{
 "cells": [
  {
   "cell_type": "markdown",
   "metadata": {},
   "source": [
    "✨💞1. Utilizando o comando FOR, exiba todos os números ímpares, de 1 a 40."
   ]
  },
  {
   "cell_type": "code",
   "execution_count": 3,
   "metadata": {},
   "outputs": [
    {
     "name": "stdout",
     "output_type": "stream",
     "text": [
      "1\n",
      "3\n",
      "5\n",
      "7\n",
      "9\n",
      "11\n",
      "13\n",
      "15\n",
      "17\n",
      "19\n",
      "21\n",
      "23\n",
      "25\n",
      "27\n",
      "29\n",
      "31\n",
      "33\n",
      "35\n",
      "37\n",
      "39\n"
     ]
    }
   ],
   "source": [
    "for x in range (1, 40, 2) :\n",
    "    print(x)"
   ]
  },
  {
   "cell_type": "code",
   "execution_count": 2,
   "metadata": {},
   "outputs": [
    {
     "name": "stdout",
     "output_type": "stream",
     "text": [
      "1\n",
      "3\n",
      "5\n",
      "7\n",
      "9\n",
      "11\n",
      "13\n",
      "15\n",
      "17\n",
      "19\n",
      "21\n",
      "23\n",
      "25\n",
      "27\n",
      "29\n",
      "31\n",
      "33\n",
      "35\n",
      "37\n",
      "39\n"
     ]
    }
   ],
   "source": [
    "for x in range (40) :\n",
    "    if x % 2 == 1 :\n",
    "        print(x)"
   ]
  },
  {
   "cell_type": "markdown",
   "metadata": {},
   "source": [
    "✨💞2. Gere os 6 números do sorteio da mega-sena de forma aleatória."
   ]
  },
  {
   "cell_type": "code",
   "execution_count": 4,
   "metadata": {},
   "outputs": [
    {
     "name": "stdout",
     "output_type": "stream",
     "text": [
      "O número na mega: 55\n",
      "O número na mega: 8\n",
      "O número na mega: 27\n",
      "O número na mega: 57\n",
      "O número na mega: 54\n",
      "O número na mega: 25\n"
     ]
    }
   ],
   "source": [
    "import random\n",
    "for x in range (6) :\n",
    "    x = random.randint (1, 60)\n",
    "    print(f'O número na mega: {x}')\n"
   ]
  },
  {
   "cell_type": "markdown",
   "metadata": {},
   "source": [
    "✨💞3. Receba 5 números e verifique a soma e a quantidade de todos os pares e ímpares digitados"
   ]
  },
  {
   "cell_type": "code",
   "execution_count": 2,
   "metadata": {},
   "outputs": [
    {
     "name": "stdout",
     "output_type": "stream",
     "text": [
      "O total da soma 10 com 5 números pares e 0 números ímpar\n"
     ]
    }
   ],
   "source": [
    "soma = 0\n",
    "par = 0\n",
    "impar = 0\n",
    "for x in range (5) :\n",
    "    nr = int(input('Digite um número:'))\n",
    "    soma = soma + nr\n",
    "    if nr % 2 == 0 :\n",
    "        par = par + 1\n",
    "    else :\n",
    "        impar = impar + 1\n",
    "\n",
    "print(f'O total da soma {soma} com {par} números pares e {impar} números ímpar')\n",
    "\n"
   ]
  },
  {
   "cell_type": "markdown",
   "metadata": {},
   "source": [
    "✨💞4. Solicite os parâmetros de início, fim e passo para o laço de repetição usando a função range()\n",
    "e exiba o valor atual da variável de controle a cada iteração. range( x , y , z )"
   ]
  },
  {
   "cell_type": "code",
   "execution_count": 10,
   "metadata": {},
   "outputs": [
    {
     "name": "stdout",
     "output_type": "stream",
     "text": [
      "0\n",
      "5\n",
      "10\n",
      "15\n",
      "20\n",
      "25\n",
      "30\n",
      "35\n",
      "40\n",
      "45\n"
     ]
    }
   ],
   "source": [
    "inicio = int(input('Digite o número início: '))\n",
    "fim = int (input('Digite o número fim: '))\n",
    "passo = int(input('Digite o número passo:'))\n",
    "\n",
    "for x in range (inicio, fim, passo):\n",
    "    print(x)"
   ]
  },
  {
   "cell_type": "markdown",
   "metadata": {},
   "source": [
    "✨💞5. Ler do teclado a idade e o sexo de 10 pessoas, calcule e imprima: idade média das mulheres / idade média dos homens / idade média do grupo"
   ]
  },
  {
   "cell_type": "code",
   "execution_count": 18,
   "metadata": {},
   "outputs": [
    {
     "name": "stdout",
     "output_type": "stream",
     "text": [
      "O grupo tem em media 76.0 mulheres\n",
      "O grupo tem em média 53.2 de homem\n",
      "A idade média do grupo é 64.6 / 10\n"
     ]
    }
   ],
   "source": [
    "idade = 0\n",
    "mediaF = 0\n",
    "mediaM = 0\n",
    "totalF = 0\n",
    "totalM = 0\n",
    "for x in range (10) :\n",
    "    idade = int(input('Digite a idade:'))\n",
    "    sexo = input('Digite a sexo da pessoa:[M/F]')\n",
    "    if sexo == 'F' :\n",
    "        totalF = totalF + 1\n",
    "        mediaF = mediaF +  idade \n",
    "    else :\n",
    "        totalM = totalM + 1\n",
    "        mediaM = mediaM + idade\n",
    "print(f'O grupo tem em media {mediaF / totalF} mulheres')\n",
    "print(f'O grupo tem em média {mediaM / totalM} de homem')\n",
    "print(f'A idade média do grupo é {(mediaM + mediaF) / 10} com {(totalF + totalM)} pessoas')"
   ]
  },
  {
   "cell_type": "markdown",
   "metadata": {},
   "source": [
    "✨💞6. Escreva um programa que mostre todos os números entre 5 e 100 que são divisíveis por 7. Os\n",
    "números obtidos devem ser impressos em sequência."
   ]
  },
  {
   "cell_type": "code",
   "execution_count": null,
   "metadata": {},
   "outputs": [],
   "source": [
    "for x in range(5, 100) :\n",
    "    if nr % 7 == 0:\n",
    "        print(nr)"
   ]
  },
  {
   "cell_type": "markdown",
   "metadata": {},
   "source": [
    "✨💞7. Escreva um programa em Python que receba uma string do usuário e mostre de trás para\n",
    "frente."
   ]
  },
  {
   "cell_type": "code",
   "execution_count": 29,
   "metadata": {},
   "outputs": [
    {
     "name": "stdout",
     "output_type": "stream",
     "text": [
      "subino on ibuS\n"
     ]
    }
   ],
   "source": [
    "palavra = input('Digite uma palvra: ')\n",
    "novaPalavra = ''\n",
    "for letra in palavra :\n",
    "    novaPalavra = letra + novaPalavra\n",
    "\n",
    "print(novaPalavra)"
   ]
  }
 ],
 "metadata": {
  "kernelspec": {
   "display_name": "Python 3",
   "language": "python",
   "name": "python3"
  },
  "language_info": {
   "codemirror_mode": {
    "name": "ipython",
    "version": 3
   },
   "file_extension": ".py",
   "mimetype": "text/x-python",
   "name": "python",
   "nbconvert_exporter": "python",
   "pygments_lexer": "ipython3",
   "version": "3.12.2"
  }
 },
 "nbformat": 4,
 "nbformat_minor": 2
}
